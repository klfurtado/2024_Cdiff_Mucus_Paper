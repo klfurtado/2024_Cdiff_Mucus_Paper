{
 "cells": [
  {
   "cell_type": "markdown",
   "metadata": {},
   "source": [
    "# Import Databases"
   ]
  },
  {
   "cell_type": "code",
   "execution_count": 1,
   "metadata": {
    "collapsed": false
   },
   "outputs": [],
   "source": [
    "# Load libraries\n",
    "import riptide\n",
    "import cobra\n",
    "import pandas as pd\n",
    "import numpy as np"
   ]
  },
  {
   "cell_type": "markdown",
   "metadata": {},
   "source": [
    "# Load & Format TPM File\n",
    "#### Once files are made correctly, these steps do not need to be repeated. \n",
    "#### To re-run, uncomment lines with single \"#\""
   ]
  },
  {
   "cell_type": "code",
   "execution_count": null,
   "metadata": {
    "collapsed": false
   },
   "outputs": [],
   "source": [
    "## Load TPM data\n",
    "## Replace file path(s) accordingly\n",
    "#df = pd.read_csv(\"/Users/kathleenfurtado/RIPTIDE/TPMs_PATRIC_ID.csv\", sep=',')"
   ]
  },
  {
   "cell_type": "code",
   "execution_count": null,
   "metadata": {
    "collapsed": false
   },
   "outputs": [],
   "source": [
    "## Format IDs (remove 'fig|')\n",
    "#df['PATRIC.ID'] = df['PATRIC.ID'].str.split('|', expand=True)[1]"
   ]
  },
  {
   "cell_type": "code",
   "execution_count": null,
   "metadata": {
    "collapsed": false
   },
   "outputs": [],
   "source": [
    "#df.shape \n",
    "## 3400 genes  \n",
    "## need to filter down to just the metabolic genes present in the model"
   ]
  },
  {
   "cell_type": "code",
   "execution_count": null,
   "metadata": {
    "collapsed": false
   },
   "outputs": [],
   "source": [
    "## Get the genes from model\n",
    "#modelGenes = {g.id for g in r20291.genes} #703 genes"
   ]
  },
  {
   "cell_type": "code",
   "execution_count": null,
   "metadata": {
    "collapsed": false
   },
   "outputs": [],
   "source": [
    "## Filter TPM df by modelGenes\n",
    "#df1 = df.loc[df['PATRIC.ID'].isin(modelGenes)] # 678 genes (intersection of modelGenes and TPM genes)"
   ]
  },
  {
   "cell_type": "code",
   "execution_count": null,
   "metadata": {
    "collapsed": false
   },
   "outputs": [],
   "source": [
    "## Separate TPM file into condition-specific files\n",
    "#df1.iloc[:, :4].to_csv('TPM_CDMM.csv',sep=',',index=False) # CDMM; isolates first three columns + row names\n",
    "#df1.iloc[:, [0,4,5,6]].to_csv('TPM_Comm.csv',sep=',',index=False) # Comm; isolates columns 4-6 + row names\n",
    "#df1.iloc[:, [0,7,8,9]].to_csv('TPM_IEC.csv',sep=',',index=False) # IEC; isolates columns 7-9 + row names"
   ]
  },
  {
   "cell_type": "markdown",
   "metadata": {},
   "source": [
    "# Make Transcriptome Dictionaries"
   ]
  },
  {
   "cell_type": "code",
   "execution_count": 2,
   "metadata": {
    "collapsed": false
   },
   "outputs": [],
   "source": [
    "# Create transcriptomic dictionaries\n",
    "cdmm = riptide.read_transcription_file('TPM_CDMM.csv', norm = False, header = True, sep=',')#TPM normalized, hence norm=False\n",
    "iec = riptide.read_transcription_file('TPM_IEC.csv', norm = False, header = True, sep=',')"
   ]
  },
  {
   "cell_type": "markdown",
   "metadata": {},
   "source": [
    "# Analyses for Complete CDMM"
   ]
  },
  {
   "cell_type": "markdown",
   "metadata": {},
   "source": [
    "## Load Model for Complete CDMM (No Mucus)"
   ]
  },
  {
   "cell_type": "code",
   "execution_count": 4,
   "metadata": {
    "collapsed": false
   },
   "outputs": [
    {
     "data": {
      "text/plain": [
       "74.3745987238828"
      ]
     },
     "execution_count": 4,
     "metadata": {},
     "output_type": "execute_result"
    }
   ],
   "source": [
    "##Media formulation for CDMM with all amino acids\n",
    "\n",
    "#Reload model\n",
    "r20291=cobra.io.read_sbml_model(\"/Users/kathleenfurtado/RIPTIDE/iCdR703.sbml\")\n",
    "\n",
    "cdmm_med = {'cpd00001_e', # water\n",
    "        'cpd00104_e', # Biotin\n",
    "        'cpd00644_e', # Pantothenate\n",
    "        'cpd00263_e', # Pyridoxine\n",
    "        'cpd00149_e', # Cobalt\n",
    "        'cpd00099_e', # Chloride\n",
    "        'cpd10515_e', # Iron\n",
    "        'cpd00030_e', # Manganese\n",
    "        'cpd00254_e', # Magnesium\n",
    "        'cpd00063_e', # Calcium\n",
    "        'cpd00205_e', # Potassium\n",
    "        'cpd00009_e', # Phosphate\n",
    "        'cpd00971_e', # Sodium\n",
    "        'cpd00242_e', # Carbonate\n",
    "        'cpd00027_e', # Glucose\n",
    "        'cpd00013_e', # Ammonia\n",
    "        'cpd00322_e', # L-Isoleucine\n",
    "        'cpd00129_e', # L-Proline\n",
    "        'cpd00156_e', # L-Valine\n",
    "        'cpd00107_e', # L-Leucine\n",
    "        'cpd00084_e', # L-Cysteine\n",
    "        'cpd00065_e', # L-Tryptophan\n",
    "        'cpd00039_e', # L-Lysine\n",
    "        'cpd00119_e', # L-Histidine\n",
    "        'cpd00051_e', # L-Arginine\n",
    "        'cpd00041_e', # L-Aspartate\n",
    "        'cpd00161_e', # L-Threonine\n",
    "        'cpd00054_e', # L-Serine\n",
    "        'cpd00023_e', # L-Glutamate\n",
    "        'cpd00033_e', # L-Glycine\n",
    "        'cpd00035_e', # L-Alanine\n",
    "        'cpd00060_e', # L-Methionine\n",
    "        'cpd00069_e', # L-Tyrosine\n",
    "        'cpd00066_e', # L-Phenylalanine\n",
    "        'cpd00053_e', # L-Glutamine\n",
    "        'cpd00132_e'} # L-Asparagine\n",
    "\n",
    "# minimal media exchange reactions\n",
    "cdmm_ex = {'EX_' + x for x in cdmm_med}\n",
    "\n",
    "# Turn off all exchanges unless in minimal media\n",
    "for i in r20291.exchanges:\n",
    "    i.upper_bound = 1000\n",
    "    if not i.id in cdmm_ex:\n",
    "        i.lower_bound = 0.\n",
    "    else: \n",
    "        i.lower_bound = -1000.\n",
    "        \n",
    "# Check R20291 growth in CDMM\n",
    "r20291.slim_optimize()"
   ]
  },
  {
   "cell_type": "markdown",
   "metadata": {},
   "source": [
    "## Run RIPTIDE for No Mucus"
   ]
  },
  {
   "cell_type": "code",
   "execution_count": 6,
   "metadata": {
    "collapsed": false,
    "scrolled": true
   },
   "outputs": [
    {
     "name": "stderr",
     "output_type": "stream",
     "text": [
      "/Users/kathleenfurtado/anaconda3/envs/riptide3/lib/python3.8/site-packages/jupyter_client/jsonutil.py:75: DeprecationWarning: Interpreting naive datetime as local 2023-12-30 18:00:21.591473. Please add timezone info to timestamps.\n",
      "  new_obj[k] = extract_dates(v)\n"
     ]
    },
    {
     "name": "stdout",
     "output_type": "stream",
     "text": [
      "\n",
      "Running max fit RIPTiDe for objective fraction range: 0.35 to 0.95 with intervals of 0.05 \n",
      "\n",
      "Testing minimum objective fractions...\n",
      "Fraction = 0.35 | Rho = 0.1101 ; p = 0.0577\n",
      "Fraction = 0.4 | Rho = 0.0759 ; p = 0.1912\n",
      "Fraction = 0.45 | Rho = 0.0754 ; p = 0.194\n",
      "Fraction = 0.5 | Rho = 0.034 ; p = 0.5586\n",
      "Fraction = 0.55 | Rho = 0.0895 ; p = 0.1117\n",
      "Fraction = 0.6 | Rho = 0.0073 ; p = 0.8969\n",
      "Fraction = 0.65 | Rho = 0.0336 ; p = 0.5495\n",
      "Fraction = 0.7 | Rho = 0.0611 ; p = 0.2724\n",
      "Fraction = 0.75 | Rho = 0.0614 ; p = 0.2698\n",
      "Fraction = 0.8 | Rho = 0.0625 ; p = 0.2622\n",
      "Fraction = 0.85 | Rho = 0.0227 ; p = 0.6838\n",
      "Fraction = 0.9 | Rho = 0.0123 ; p = 0.8238\n",
      "Testing local objective fractions to 0.35...\n",
      "Fraction = 0.325 | Rho = 0.1117 ; p = 0.0541\n",
      "Fraction = 0.375 | Rho = 0.0869 ; p = 0.1344\n",
      "\n",
      "Context-specific metabolism fit with 0.325 of optimal objective flux\n",
      "\n",
      "Reactions pruned to 298 from 1313 (77.3% change)\n",
      "Metabolites pruned to 300 from 1243 (75.86% change)\n",
      "Flux through the objective DECREASED to ~35.26 from ~74.37 (52.59% change)\n",
      "Context-specific metabolism does not correlate with transcriptome (r=0.112, n.s.)\n",
      "\n",
      "Maxfit RIPTiDe completed in, 19 minutes and 12 seconds \n",
      "\n"
     ]
    }
   ],
   "source": [
    "# Create Riptide object\n",
    "rip_cdmm = riptide.contextualize(model=r20291, conservative=False, transcriptome=cdmm)\n",
    "rip_cdmm_max = riptide.maxfit_contextualize(model=r20291, conservative=False, transcriptome=cdmm) #used in paper"
   ]
  },
  {
   "cell_type": "code",
   "execution_count": 7,
   "metadata": {
    "collapsed": false
   },
   "outputs": [
    {
     "name": "stderr",
     "output_type": "stream",
     "text": [
      "/Users/kathleenfurtado/anaconda3/envs/riptide3/lib/python3.8/site-packages/jupyter_client/jsonutil.py:75: DeprecationWarning: Interpreting naive datetime as local 2023-12-30 18:21:38.234462. Please add timezone info to timestamps.\n",
      "  new_obj[k] = extract_dates(v)\n"
     ]
    },
    {
     "name": "stdout",
     "output_type": "stream",
     "text": [
      "WARNING: Output path already exists, overwriting previous files\n"
     ]
    }
   ],
   "source": [
    "#Export output from CDMM condition\n",
    "riptide.save_output(riptide_obj=rip_cdmm, path='/Users/kathleenfurtado/RIPTIDE/riptide_cdmm_complete')\n",
    "riptide.save_output(riptide_obj=rip_cdmm_max, path='/Users/kathleenfurtado/RIPTIDE/riptide_cdmm_max_complete')"
   ]
  },
  {
   "cell_type": "code",
   "execution_count": 4,
   "metadata": {
    "collapsed": false
   },
   "outputs": [
    {
     "ename": "NameError",
     "evalue": "name 'rip_cdmm_max' is not defined",
     "output_type": "error",
     "traceback": [
      "\u001b[0;31m---------------------------------------------------------------------------\u001b[0m",
      "\u001b[0;31mNameError\u001b[0m                                 Traceback (most recent call last)",
      "Cell \u001b[0;32mIn[4], line 1\u001b[0m\n\u001b[0;32m----> 1\u001b[0m \u001b[38;5;28mprint\u001b[39m(\u001b[43mrip_cdmm_max\u001b[49m\u001b[38;5;241m.\u001b[39mflux_samples\u001b[38;5;241m.\u001b[39mshape)\n\u001b[1;32m      2\u001b[0m \u001b[38;5;28mprint\u001b[39m(rip_iec_max\u001b[38;5;241m.\u001b[39mflux_samples\u001b[38;5;241m.\u001b[39mshape)\n",
      "\u001b[0;31mNameError\u001b[0m: name 'rip_cdmm_max' is not defined"
     ]
    }
   ],
   "source": [
    "print(rip_cdmm_max.flux_samples.shape)"
   ]
  },
  {
   "cell_type": "markdown",
   "metadata": {},
   "source": [
    "## Load Model for Complete CDMM +Mucus"
   ]
  },
  {
   "cell_type": "code",
   "execution_count": 10,
   "metadata": {
    "collapsed": false
   },
   "outputs": [
    {
     "name": "stderr",
     "output_type": "stream",
     "text": [
      "/Users/kathleenfurtado/anaconda3/envs/riptide3/lib/python3.8/site-packages/jupyter_client/jsonutil.py:75: DeprecationWarning: Interpreting naive datetime as local 2023-12-30 18:34:27.883436. Please add timezone info to timestamps.\n",
      "  new_obj[k] = extract_dates(v)\n"
     ]
    },
    {
     "data": {
      "text/plain": [
       "84.62195562073408"
      ]
     },
     "execution_count": 10,
     "metadata": {},
     "output_type": "execute_result"
    }
   ],
   "source": [
    "##Load model and edit for CDMM media with monosaccharides derived from N- and O-glycans\n",
    "#Using all amino acids\n",
    "\n",
    "#Reload model\n",
    "r20291=cobra.io.read_sbml_model(\"/Users/kathleenfurtado/RIPTIDE/iCdR703.sbml\")\n",
    "\n",
    "cdmm_muc = {'cpd00001_e', # water\n",
    "        'cpd00104_e', # Biotin\n",
    "        'cpd00644_e', # Pantothenate\n",
    "        'cpd00263_e', # Pyridoxine\n",
    "        'cpd00149_e', # Cobalt\n",
    "        'cpd00099_e', # Chloride\n",
    "        'cpd10515_e', # Iron\n",
    "        'cpd00030_e', # Manganese\n",
    "        'cpd00254_e', # Magnesium\n",
    "        'cpd00063_e', # Calcium\n",
    "        'cpd00205_e', # Potassium\n",
    "        'cpd00009_e', # Phosphate\n",
    "        'cpd00971_e', # Sodium\n",
    "        'cpd00242_e', # Carbonate\n",
    "        'cpd00013_e', # Ammonia\n",
    "        'cpd00027_e', # D-Glucose\n",
    "        'cpd00322_e', # L-Isoleucine\n",
    "        'cpd00129_e', # L-Proline\n",
    "        'cpd00156_e', # L-Valine\n",
    "        'cpd00107_e', # L-Leucine\n",
    "        'cpd00084_e', # L-Cysteine\n",
    "        'cpd00065_e', # L-Tryptophan\n",
    "        'cpd00039_e', # L-Lysine\n",
    "        'cpd00119_e', # L-Histidine\n",
    "        'cpd00051_e', # L-Arginine\n",
    "        'cpd00041_e', # L-Aspartate\n",
    "        'cpd00161_e', # L-Threonine\n",
    "        'cpd00054_e', # L-Serine\n",
    "        'cpd00023_e', # L-Glutamate\n",
    "        'cpd00033_e', # L-Glycine\n",
    "        'cpd00035_e', # L-Alanine\n",
    "        'cpd00060_e', # L-Methionine\n",
    "        'cpd00069_e', # L-Tyrosine\n",
    "        'cpd00066_e', # L-Phenylalanine\n",
    "        'cpd00053_e', # L-Glutamine\n",
    "        'cpd00132_e', # L-Asparagine\n",
    "        'cpd00122_e', # N-Acetyl-D-glucosamine\n",
    "        'cpd27607_e', # N-Acetyl-D-galactosamine\n",
    "        'cpd00232_e', # Neu5Ac\n",
    "        'cpd00108_e', # Galactose\n",
    "        'cpd00751_e', # L-Fucose\n",
    "        'cpd00138_e'} # D-Mannose\n",
    "\n",
    "# minimal media exchange reactions\n",
    "cdmm_ex = {'EX_' + x for x in cdmm_muc}\n",
    "\n",
    "# Turn off all exchanges unless in minimal media\n",
    "for i in r20291.exchanges:\n",
    "    i.upper_bound = 1000\n",
    "    if not i.id in cdmm_ex:\n",
    "        i.lower_bound = 0.\n",
    "    else: \n",
    "        i.lower_bound = -1000.\n",
    "        \n",
    "# Check R20291 growth in CDMM\n",
    "r20291.slim_optimize()"
   ]
  },
  {
   "cell_type": "markdown",
   "metadata": {},
   "source": [
    "## Run RIPTIDE for  +Mucus"
   ]
  },
  {
   "cell_type": "code",
   "execution_count": 11,
   "metadata": {
    "collapsed": false
   },
   "outputs": [
    {
     "name": "stderr",
     "output_type": "stream",
     "text": [
      "/Users/kathleenfurtado/anaconda3/envs/riptide3/lib/python3.8/site-packages/jupyter_client/jsonutil.py:75: DeprecationWarning: Interpreting naive datetime as local 2023-12-30 18:35:36.051312. Please add timezone info to timestamps.\n",
      "  new_obj[k] = extract_dates(v)\n"
     ]
    },
    {
     "name": "stdout",
     "output_type": "stream",
     "text": [
      "\n",
      "Initializing model and integrating transcriptomic data...\n",
      "Pruning zero flux subnetworks...\n",
      "Analyzing context-specific flux distributions...\n",
      "\n",
      "Reactions pruned to 341 from 1313 (74.03% change)\n",
      "Metabolites pruned to 336 from 1243 (72.97% change)\n",
      "Flux through the objective DECREASED to ~72.03 from ~84.62 (14.88% change)\n",
      "Context-specific metabolism does not correlate with transcriptome (r=0.004, n.s.)\n",
      "\n",
      "RIPTiDe completed in, 1 minute and 14 seconds \n",
      "\n",
      "\n",
      "Running max fit RIPTiDe for objective fraction range: 0.35 to 0.95 with intervals of 0.05 \n",
      "\n",
      "Testing minimum objective fractions...\n",
      "Fraction = 0.35 | Rho = 0.0363 ; p = 0.5214\n",
      "Fraction = 0.4 | Rho = 0.0351 ; p = 0.5355\n",
      "Fraction = 0.45 | Rho = 0.0009 ; p = 0.9867\n",
      "Fraction = 0.5 | Rho = 0.036 ; p = 0.5116\n",
      "Fraction = 0.55 | Rho = 0.0572 ; p = 0.2991\n",
      "Fraction = 0.6 | Rho = 0.0002 ; p = 0.997\n",
      "Fraction = 0.65 | Rho = 0.0055 ; p = 0.9192\n",
      "Fraction = 0.7 | Rho = -0.001 ; p = 0.9851\n",
      "Fraction = 0.75 | Rho = 0.0068 ; p = 0.9\n",
      "Fraction = 0.8 | Rho = 0.0042 ; p = 0.9383\n",
      "Fraction = 0.85 | Rho = 0.0048 ; p = 0.9309\n",
      "Fraction = 0.9 | Rho = 0.0059 ; p = 0.9128\n",
      "Testing local objective fractions to 0.55...\n",
      "Fraction = 0.525 | Rho = 0.08 ; p = 0.1439\n",
      "Fraction = 0.575 | Rho = 0.0267 ; p = 0.6252\n",
      "\n",
      "Context-specific metabolism fit with 0.525 of optimal objective flux\n",
      "\n",
      "Reactions pruned to 335 from 1313 (74.49% change)\n",
      "Metabolites pruned to 330 from 1243 (73.45% change)\n",
      "Flux through the objective DECREASED to ~51.03 from ~84.62 (39.7% change)\n",
      "Context-specific metabolism does not correlate with transcriptome (r=0.08, n.s.)\n",
      "\n",
      "Maxfit RIPTiDe completed in, 23 minutes and 43 seconds \n",
      "\n"
     ]
    }
   ],
   "source": [
    "#Create RIPTIDE Objects\n",
    "rip_iec = riptide.contextualize(model=r20291, conservative=False, transcriptome=iec)\n",
    "rip_iec_max = riptide.maxfit_contextualize(model=r20291, conservative=False, transcriptome=iec)"
   ]
  },
  {
   "cell_type": "code",
   "execution_count": 12,
   "metadata": {
    "collapsed": false
   },
   "outputs": [
    {
     "name": "stderr",
     "output_type": "stream",
     "text": [
      "/Users/kathleenfurtado/anaconda3/envs/riptide3/lib/python3.8/site-packages/jupyter_client/jsonutil.py:75: DeprecationWarning: Interpreting naive datetime as local 2023-12-30 19:01:58.375317. Please add timezone info to timestamps.\n",
      "  new_obj[k] = extract_dates(v)\n"
     ]
    },
    {
     "name": "stdout",
     "output_type": "stream",
     "text": [
      "WARNING: Output path already exists, overwriting previous files\n"
     ]
    }
   ],
   "source": [
    "#Save Outputs\n",
    "riptide.save_output(riptide_obj=rip_iec, path='/Users/kathleenfurtado/RIPTIDE/riptide_iec_complete')\n",
    "riptide.save_output(riptide_obj=rip_iec_max, path='/Users/kathleenfurtado/RIPTIDE/riptide_iec_max_complete')"
   ]
  },
  {
   "cell_type": "code",
   "execution_count": 13,
   "metadata": {
    "collapsed": false
   },
   "outputs": [
    {
     "name": "stdout",
     "output_type": "stream",
     "text": [
      "(500, 341)\n",
      "(500, 335)\n"
     ]
    },
    {
     "name": "stderr",
     "output_type": "stream",
     "text": [
      "/Users/kathleenfurtado/anaconda3/envs/riptide3/lib/python3.8/site-packages/jupyter_client/jsonutil.py:75: DeprecationWarning: Interpreting naive datetime as local 2023-12-30 19:02:21.827203. Please add timezone info to timestamps.\n",
      "  new_obj[k] = extract_dates(v)\n"
     ]
    }
   ],
   "source": [
    "#Check feasible samplings per condition\n",
    "print(rip_iec.flux_samples.shape) #287 samplings, 324 rxns\n",
    "print(rip_iec_max.flux_samples.shape) #500 samplings, 341 rxns"
   ]
  },
  {
   "cell_type": "markdown",
   "metadata": {},
   "source": [
    "## Test Complete CDMM +Mucus formulation, to see if this alters biomass/feasible solutions for no mucus condition."
   ]
  },
  {
   "cell_type": "code",
   "execution_count": 14,
   "metadata": {
    "collapsed": false
   },
   "outputs": [
    {
     "name": "stderr",
     "output_type": "stream",
     "text": [
      "/Users/kathleenfurtado/anaconda3/envs/riptide3/lib/python3.8/site-packages/jupyter_client/jsonutil.py:75: DeprecationWarning: Interpreting naive datetime as local 2023-12-30 19:02:58.759128. Please add timezone info to timestamps.\n",
      "  new_obj[k] = extract_dates(v)\n"
     ]
    },
    {
     "name": "stdout",
     "output_type": "stream",
     "text": [
      "\n",
      "Initializing model and integrating transcriptomic data...\n",
      "Pruning zero flux subnetworks...\n",
      "Analyzing context-specific flux distributions...\n",
      "\n",
      "Reactions pruned to 342 from 1313 (73.95% change)\n",
      "Metabolites pruned to 338 from 1243 (72.81% change)\n",
      "Flux through the objective DECREASED to ~70.05 from ~84.62 (17.22% change)\n",
      "Context-specific metabolism does not correlate with transcriptome (r=0.04, n.s.)\n",
      "\n",
      "RIPTiDe completed in, 2 minutes and 6 seconds \n",
      "\n",
      "\n",
      "Running max fit RIPTiDe for objective fraction range: 0.35 to 0.95 with intervals of 0.05 \n",
      "\n",
      "Testing minimum objective fractions...\n",
      "Fraction = 0.35 | Rho = 0.1087 ; p = 0.0543\n",
      "Fraction = 0.4 | Rho = 0.1022 ; p = 0.0705\n",
      "Fraction = 0.45 | Rho = 0.0309 ; p = 0.5848\n",
      "Fraction = 0.5 | Rho = 0.0993 ; p = 0.0703\n",
      "Fraction = 0.55 | Rho = 0.0537 ; p = 0.3263\n",
      "Fraction = 0.6 | Rho = 0.0737 ; p = 0.1752\n",
      "Fraction = 0.65 | Rho = 0.0824 ; p = 0.1284\n",
      "Fraction = 0.7 | Rho = 0.0731 ; p = 0.1776\n",
      "Fraction = 0.75 | Rho = 0.0308 ; p = 0.5706\n",
      "Fraction = 0.8 | Rho = 0.0396 ; p = 0.4657\n",
      "Fraction = 0.85 | Rho = 0.055 ; p = 0.3153\n",
      "Fraction = 0.9 | Rho = 0.0179 ; p = 0.7417\n",
      "Testing local objective fractions to 0.35...\n",
      "Fraction = 0.325 | Rho = 0.0837 ; p = 0.1383\n",
      "Fraction = 0.375 | Rho = 0.1073 ; p = 0.0576\n",
      "\n",
      "Context-specific metabolism fit with 0.35 of optimal objective flux\n",
      "\n",
      "Reactions pruned to 314 from 1313 (76.09% change)\n",
      "Metabolites pruned to 312 from 1243 (74.9% change)\n",
      "Flux through the objective DECREASED to ~36.48 from ~84.62 (56.89% change)\n",
      "Context-specific metabolism does not correlate with transcriptome (r=0.109, n.s.)\n",
      "\n",
      "Maxfit RIPTiDe completed in, 26 minutes and 11 seconds \n",
      "\n"
     ]
    }
   ],
   "source": [
    "#Create RIPTIDE Objects\n",
    "rip_cdmm_monosacc_test = riptide.contextualize(model=r20291, conservative=False, transcriptome=cdmm)\n",
    "rip_cdmm_monosacc_test_max = riptide.maxfit_contextualize(model=r20291, conservative=False, transcriptome=cdmm)"
   ]
  },
  {
   "cell_type": "code",
   "execution_count": 15,
   "metadata": {
    "collapsed": false
   },
   "outputs": [
    {
     "name": "stdout",
     "output_type": "stream",
     "text": [
      "(85, 342)\n",
      "(500, 314)\n"
     ]
    },
    {
     "name": "stderr",
     "output_type": "stream",
     "text": [
      "/Users/kathleenfurtado/anaconda3/envs/riptide3/lib/python3.8/site-packages/jupyter_client/jsonutil.py:75: DeprecationWarning: Interpreting naive datetime as local 2023-12-30 19:38:16.542419. Please add timezone info to timestamps.\n",
      "  new_obj[k] = extract_dates(v)\n"
     ]
    }
   ],
   "source": [
    "#Check feasible samplings\n",
    "print(rip_cdmm_monosacc_test.flux_samples.shape) #85 samplings, 342 rxns\n",
    "print(rip_cdmm_monosacc_test_max.flux_samples.shape) #500 samplings, 314 rxns"
   ]
  },
  {
   "cell_type": "code",
   "execution_count": 16,
   "metadata": {
    "collapsed": false
   },
   "outputs": [
    {
     "name": "stderr",
     "output_type": "stream",
     "text": [
      "/Users/kathleenfurtado/anaconda3/envs/riptide3/lib/python3.8/site-packages/jupyter_client/jsonutil.py:75: DeprecationWarning: Interpreting naive datetime as local 2023-12-30 19:44:10.758749. Please add timezone info to timestamps.\n",
      "  new_obj[k] = extract_dates(v)\n"
     ]
    },
    {
     "name": "stdout",
     "output_type": "stream",
     "text": [
      "WARNING: Output path already exists, overwriting previous files\n"
     ]
    }
   ],
   "source": [
    "#Export to check biomass and compare to conditions with mucus in R\n",
    "riptide.save_output(riptide_obj=rip_cdmm_monosacc_test, path='/Users/kathleenfurtado/RIPTIDE/riptide_cdmm_monosacc_test')\n",
    "riptide.save_output(riptide_obj=rip_cdmm_monosacc_test_max, path='/Users/kathleenfurtado/RIPTIDE/riptide_cdmm_monosacc_test_max')"
   ]
  },
  {
   "cell_type": "markdown",
   "metadata": {},
   "source": [
    "# Repeat Analyses -G -S (matching lab-tested conditions)"
   ]
  },
  {
   "cell_type": "markdown",
   "metadata": {},
   "source": [
    "## Load model for CDMM -G -S"
   ]
  },
  {
   "cell_type": "code",
   "execution_count": 17,
   "metadata": {
    "collapsed": false
   },
   "outputs": [
    {
     "name": "stderr",
     "output_type": "stream",
     "text": [
      "/Users/kathleenfurtado/anaconda3/envs/riptide3/lib/python3.8/site-packages/jupyter_client/jsonutil.py:75: DeprecationWarning: Interpreting naive datetime as local 2023-12-30 21:37:46.443125. Please add timezone info to timestamps.\n",
      "  new_obj[k] = extract_dates(v)\n"
     ]
    },
    {
     "data": {
      "text/plain": [
       "73.8476411998919"
      ]
     },
     "execution_count": 17,
     "metadata": {},
     "output_type": "execute_result"
    }
   ],
   "source": [
    "##Load model and edit for CDMM media (no mucus)\n",
    "#Glycine and Serine removed\n",
    "\n",
    "#Load model\n",
    "r20291=cobra.io.read_sbml_model(\"/Users/kathleenfurtado/RIPTIDE/iCdR703.sbml\")\n",
    "\n",
    "#Specify ingredients for CDMM and their ID in model\n",
    "cdmm_no_gs = {'cpd00001_e', # water\n",
    "        'cpd00104_e', # Biotin\n",
    "        'cpd00644_e', # Pantothenate\n",
    "        'cpd00263_e', # Pyridoxine\n",
    "        'cpd00149_e', # Cobalt\n",
    "        'cpd00099_e', # Chloride\n",
    "        'cpd10515_e', # Iron\n",
    "        'cpd00030_e', # Manganese\n",
    "        'cpd00254_e', # Magnesium\n",
    "        'cpd00063_e', # Calcium\n",
    "        'cpd00205_e', # Potassium\n",
    "        'cpd00009_e', # Phosphate\n",
    "        'cpd00971_e', # Sodium\n",
    "        'cpd00242_e', # Carbonate\n",
    "        'cpd00013_e', # Ammonia\n",
    "        'cpd00027_e', # D-Glucose\n",
    "        'cpd00322_e', # L-Isoleucine\n",
    "        'cpd00129_e', # L-Proline\n",
    "        'cpd00156_e', # L-Valine\n",
    "        'cpd00107_e', # L-Leucine\n",
    "        'cpd00084_e', # L-Cysteine\n",
    "        'cpd00065_e', # L-Tryptophan\n",
    "        'cpd00039_e', # L-Lysine\n",
    "        'cpd00119_e', # L-Histidine\n",
    "        'cpd00051_e', # L-Arginine\n",
    "        'cpd00041_e', # L-Aspartate\n",
    "        'cpd00161_e', # L-Threonine\n",
    "        'cpd00023_e', # L-Glutamate\n",
    "        'cpd00035_e', # L-Alanine\n",
    "        'cpd00060_e', # L-Methionine\n",
    "        'cpd00069_e', # L-Tyrosine\n",
    "        'cpd00066_e', # L-Phenylalanine\n",
    "        'cpd00053_e', # L-Glutamine\n",
    "        'cpd00132_e'} # L-Asparagine\n",
    "\n",
    "\n",
    "# Add 'EX_' to specify exchange reactions for minimal media components\n",
    "cdmm_ex = {'EX_' + x for x in cdmm_no_gs}\n",
    "\n",
    "# Turn off all exchanges unless in minimal media\n",
    "for i in r20291.exchanges:\n",
    "    i.upper_bound = 1000\n",
    "    if not i.id in cdmm_ex:\n",
    "        i.lower_bound = 0.\n",
    "    else: \n",
    "        i.lower_bound = -1000.\n",
    "        \n",
    "# Check R20291 growth in CDMM\n",
    "r20291.slim_optimize()"
   ]
  },
  {
   "cell_type": "markdown",
   "metadata": {},
   "source": [
    "## Run RIPTIDE for No Mucus -G -S"
   ]
  },
  {
   "cell_type": "code",
   "execution_count": 18,
   "metadata": {
    "collapsed": false
   },
   "outputs": [
    {
     "name": "stderr",
     "output_type": "stream",
     "text": [
      "/Users/kathleenfurtado/anaconda3/envs/riptide3/lib/python3.8/site-packages/jupyter_client/jsonutil.py:75: DeprecationWarning: Interpreting naive datetime as local 2023-12-30 21:37:56.960353. Please add timezone info to timestamps.\n",
      "  new_obj[k] = extract_dates(v)\n"
     ]
    },
    {
     "name": "stdout",
     "output_type": "stream",
     "text": [
      "\n",
      "Initializing model and integrating transcriptomic data...\n",
      "Pruning zero flux subnetworks...\n",
      "Analyzing context-specific flux distributions...\n",
      "\n",
      "Reactions pruned to 324 from 1313 (75.32% change)\n",
      "Metabolites pruned to 325 from 1243 (73.85% change)\n",
      "Flux through the objective DECREASED to ~58.68 from ~73.85 (20.54% change)\n",
      "Context-specific metabolism does not correlate with transcriptome (r=0.063, n.s.)\n",
      "\n",
      "RIPTiDe completed in, 1 minute and 49 seconds \n",
      "\n",
      "\n",
      "Running max fit RIPTiDe for objective fraction range: 0.35 to 0.95 with intervals of 0.05 \n",
      "\n",
      "Testing minimum objective fractions...\n",
      "Fraction = 0.35 | Rho = 0.0985 ; p = 0.089\n",
      "Fraction = 0.4 | Rho = 0.1014 ; p = 0.0801\n",
      "Fraction = 0.45 | Rho = 0.1162 ; p = 0.0446\n",
      "Fraction = 0.5 | Rho = 0.0432 ; p = 0.4577\n",
      "Fraction = 0.55 | Rho = 0.0715 ; p = 0.2135\n",
      "Fraction = 0.6 | Rho = 0.0073 ; p = 0.8969\n",
      "Fraction = 0.65 | Rho = 0.0636 ; p = 0.2603\n",
      "Fraction = 0.7 | Rho = 0.0611 ; p = 0.2724\n",
      "Fraction = 0.75 | Rho = 0.0614 ; p = 0.2698\n",
      "Fraction = 0.8 | Rho = 0.0625 ; p = 0.2622\n",
      "Fraction = 0.85 | Rho = 0.0555 ; p = 0.3189\n",
      "Fraction = 0.9 | Rho = 0.0195 ; p = 0.725\n",
      "Testing local objective fractions to 0.45...\n",
      "Fraction = 0.425 | Rho = 0.0758 ; p = 0.1911\n",
      "Fraction = 0.475 | Rho = 0.0384 ; p = 0.509\n",
      "\n",
      "Context-specific metabolism fit with 0.45 of optimal objective flux\n",
      "\n",
      "Reactions pruned to 299 from 1313 (77.23% change)\n",
      "Metabolites pruned to 300 from 1243 (75.86% change)\n",
      "Flux through the objective DECREASED to ~34.71 from ~73.85 (53.0% change)\n",
      "Context-specific metabolism correlates with transcriptome (r=0.116, p=0.045 *)\n",
      "\n",
      "Maxfit RIPTiDe completed in, 21 minutes and 37 seconds \n",
      "\n"
     ]
    }
   ],
   "source": [
    "# Create Riptide object\n",
    "rip_cdmm_no_gs = riptide.contextualize(model=r20291, conservative=False, transcriptome=cdmm)\n",
    "rip_cdmm_no_gs_max = riptide.maxfit_contextualize(model=r20291, conservative=False, transcriptome=cdmm)"
   ]
  },
  {
   "cell_type": "code",
   "execution_count": 19,
   "metadata": {
    "collapsed": false
   },
   "outputs": [
    {
     "name": "stderr",
     "output_type": "stream",
     "text": [
      "/Users/kathleenfurtado/anaconda3/envs/riptide3/lib/python3.8/site-packages/jupyter_client/jsonutil.py:75: DeprecationWarning: Interpreting naive datetime as local 2023-12-30 22:08:42.674944. Please add timezone info to timestamps.\n",
      "  new_obj[k] = extract_dates(v)\n"
     ]
    },
    {
     "name": "stdout",
     "output_type": "stream",
     "text": [
      "WARNING: Output path already exists, overwriting previous files\n"
     ]
    }
   ],
   "source": [
    "#Export output from CDMM condition\n",
    "riptide.save_output(riptide_obj=rip_cdmm_no_gs, path='/Users/kathleenfurtado/RIPTIDE/riptide_cdmm_no_gs')\n",
    "riptide.save_output(riptide_obj=rip_cdmm_no_gs_max, path='/Users/kathleenfurtado/RIPTIDE/riptide_cdmm_no_gs_max')"
   ]
  },
  {
   "cell_type": "markdown",
   "metadata": {},
   "source": [
    "## Load model for CDMM +Mucus -G -S"
   ]
  },
  {
   "cell_type": "code",
   "execution_count": 20,
   "metadata": {
    "collapsed": false
   },
   "outputs": [
    {
     "name": "stderr",
     "output_type": "stream",
     "text": [
      "/Users/kathleenfurtado/anaconda3/envs/riptide3/lib/python3.8/site-packages/jupyter_client/jsonutil.py:75: DeprecationWarning: Interpreting naive datetime as local 2023-12-30 22:08:50.490744. Please add timezone info to timestamps.\n",
      "  new_obj[k] = extract_dates(v)\n"
     ]
    },
    {
     "data": {
      "text/plain": [
       "84.5537694497864"
      ]
     },
     "execution_count": 20,
     "metadata": {},
     "output_type": "execute_result"
    }
   ],
   "source": [
    "##Load model and edit for CDMM media with monosaccharides derived from N- and O-glycans\n",
    "#Glycine and Serine Removed\n",
    "\n",
    "#Reload model\n",
    "r20291=cobra.io.read_sbml_model(\"/Users/kathleenfurtado/RIPTIDE/iCdR703.sbml\")\n",
    "\n",
    "cdmm_muc_no_gs = {'cpd00001_e', # water\n",
    "        'cpd00104_e', # Biotin\n",
    "        'cpd00644_e', # Pantothenate\n",
    "        'cpd00263_e', # Pyridoxine\n",
    "        'cpd00149_e', # Cobalt\n",
    "        'cpd00099_e', # Chloride\n",
    "        'cpd10515_e', # Iron\n",
    "        'cpd00030_e', # Manganese\n",
    "        'cpd00254_e', # Magnesium\n",
    "        'cpd00063_e', # Calcium\n",
    "        'cpd00205_e', # Potassium\n",
    "        'cpd00009_e', # Phosphate\n",
    "        'cpd00971_e', # Sodium\n",
    "        'cpd00242_e', # Carbonate\n",
    "        'cpd00013_e', # Ammonia\n",
    "        'cpd00027_e', # D-Glucose\n",
    "        'cpd00322_e', # L-Isoleucine\n",
    "        'cpd00129_e', # L-Proline\n",
    "        'cpd00156_e', # L-Valine\n",
    "        'cpd00107_e', # L-Leucine\n",
    "        'cpd00084_e', # L-Cysteine\n",
    "        'cpd00065_e', # L-Tryptophan\n",
    "        'cpd00039_e', # L-Lysine\n",
    "        'cpd00119_e', # L-Histidine\n",
    "        'cpd00051_e', # L-Arginine\n",
    "        'cpd00041_e', # L-Aspartate\n",
    "        'cpd00161_e', # L-Threonine\n",
    "        'cpd00023_e', # L-Glutamate\n",
    "        'cpd00035_e', # L-Alanine\n",
    "        'cpd00060_e', # L-Methionine\n",
    "        'cpd00069_e', # L-Tyrosine\n",
    "        'cpd00066_e', # L-Phenylalanine\n",
    "        'cpd00053_e', # L-Glutamine\n",
    "        'cpd00132_e', # L-Asparagine\n",
    "        'cpd00122_e', # N-Acetyl-D-glucosamine\n",
    "        'cpd27607_e', # N-Acetyl-D-galactosamine\n",
    "        'cpd00232_e', # Neu5Ac\n",
    "        'cpd00108_e', # Galactose\n",
    "        'cpd00751_e', # L-Fucose\n",
    "        'cpd00138_e'} # D-Mannose\n",
    "\n",
    "# minimal media exchange reactions\n",
    "cdmm_ex = {'EX_' + x for x in cdmm_muc_no_gs}\n",
    "\n",
    "# Turn off all exchanges unless in minimal media\n",
    "for i in r20291.exchanges:\n",
    "    i.upper_bound = 1000\n",
    "    if not i.id in cdmm_ex:\n",
    "        i.lower_bound = 0.\n",
    "    else: \n",
    "        i.lower_bound = -1000.\n",
    "        \n",
    "# Check R20291 growth in CDMM\n",
    "r20291.slim_optimize()"
   ]
  },
  {
   "cell_type": "markdown",
   "metadata": {},
   "source": [
    "## Run RIPTIDE for +Mucus -G -S"
   ]
  },
  {
   "cell_type": "code",
   "execution_count": 21,
   "metadata": {
    "collapsed": false
   },
   "outputs": [
    {
     "name": "stderr",
     "output_type": "stream",
     "text": [
      "/Users/kathleenfurtado/anaconda3/envs/riptide3/lib/python3.8/site-packages/jupyter_client/jsonutil.py:75: DeprecationWarning: Interpreting naive datetime as local 2023-12-30 22:09:18.091979. Please add timezone info to timestamps.\n",
      "  new_obj[k] = extract_dates(v)\n"
     ]
    },
    {
     "name": "stdout",
     "output_type": "stream",
     "text": [
      "\n",
      "Initializing model and integrating transcriptomic data...\n",
      "Pruning zero flux subnetworks...\n",
      "Analyzing context-specific flux distributions...\n",
      "\n",
      "Reactions pruned to 331 from 1313 (74.79% change)\n",
      "Metabolites pruned to 328 from 1243 (73.61% change)\n",
      "Flux through the objective DECREASED to ~66.06 from ~84.55 (21.87% change)\n",
      "Context-specific metabolism does not correlate with transcriptome (r=0.038, n.s.)\n",
      "\n",
      "RIPTiDe completed in, 1 minute and 10 seconds \n",
      "\n",
      "\n",
      "Running max fit RIPTiDe for objective fraction range: 0.35 to 0.95 with intervals of 0.05 \n",
      "\n",
      "Testing minimum objective fractions...\n",
      "Fraction = 0.35 | Rho = 0.0363 ; p = 0.5214\n",
      "Fraction = 0.4 | Rho = 0.0351 ; p = 0.5355\n",
      "Fraction = 0.45 | Rho = 0.0071 ; p = 0.9005\n",
      "Fraction = 0.5 | Rho = 0.0535 ; p = 0.3316\n",
      "Fraction = 0.55 | Rho = 0.0504 ; p = 0.3579\n",
      "Fraction = 0.6 | Rho = 0.0087 ; p = 0.8727\n",
      "Fraction = 0.65 | Rho = 0.0164 ; p = 0.7669\n",
      "Fraction = 0.7 | Rho = 0.0235 ; p = 0.6699\n",
      "Fraction = 0.75 | Rho = 0.0127 ; p = 0.8183\n",
      "Fraction = 0.8 | Rho = 0.0379 ; p = 0.4923\n",
      "Fraction = 0.85 | Rho = 0.0253 ; p = 0.6439\n",
      "Fraction = 0.9 | Rho = 0.0469 ; p = 0.3826\n",
      "Testing local objective fractions to 0.5...\n",
      "Fraction = 0.475 | Rho = 0.0437 ; p = 0.4315\n",
      "Fraction = 0.525 | Rho = 0.088 ; p = 0.1079\n",
      "\n",
      "Context-specific metabolism fit with 0.525 of optimal objective flux\n",
      "\n",
      "Reactions pruned to 335 from 1313 (74.49% change)\n",
      "Metabolites pruned to 330 from 1243 (73.45% change)\n",
      "Flux through the objective DECREASED to ~49.14 from ~84.55 (41.88% change)\n",
      "Context-specific metabolism does not correlate with transcriptome (r=0.088, n.s.)\n",
      "\n",
      "Maxfit RIPTiDe completed in, 22 minutes and 3 seconds \n",
      "\n"
     ]
    }
   ],
   "source": [
    "#Create RIPTIDE Objects\n",
    "rip_iec_no_gs = riptide.contextualize(model=r20291, conservative=False, transcriptome=iec)\n",
    "rip_iec_no_gs_max = riptide.maxfit_contextualize(model=r20291, conservative=False, transcriptome=iec)"
   ]
  },
  {
   "cell_type": "code",
   "execution_count": 22,
   "metadata": {
    "collapsed": false
   },
   "outputs": [
    {
     "name": "stderr",
     "output_type": "stream",
     "text": [
      "/Users/kathleenfurtado/anaconda3/envs/riptide3/lib/python3.8/site-packages/jupyter_client/jsonutil.py:75: DeprecationWarning: Interpreting naive datetime as local 2023-12-30 23:38:14.309865. Please add timezone info to timestamps.\n",
      "  new_obj[k] = extract_dates(v)\n"
     ]
    },
    {
     "name": "stdout",
     "output_type": "stream",
     "text": [
      "WARNING: Output path already exists, overwriting previous files\n"
     ]
    }
   ],
   "source": [
    "#Save Outputs\n",
    "riptide.save_output(riptide_obj=rip_iec_no_gs, path='/Users/kathleenfurtado/RIPTIDE/riptide_iec_no_gs')\n",
    "riptide.save_output(riptide_obj=rip_iec_no_gs_max, path='/Users/kathleenfurtado/RIPTIDE/riptide_iec_no_gs_max')"
   ]
  },
  {
   "cell_type": "code",
   "execution_count": 23,
   "metadata": {
    "collapsed": false
   },
   "outputs": [
    {
     "name": "stdout",
     "output_type": "stream",
     "text": [
      "(500, 299)\n",
      "(500, 335)\n"
     ]
    },
    {
     "name": "stderr",
     "output_type": "stream",
     "text": [
      "/Users/kathleenfurtado/anaconda3/envs/riptide3/lib/python3.8/site-packages/jupyter_client/jsonutil.py:75: DeprecationWarning: Interpreting naive datetime as local 2023-12-30 23:38:28.808397. Please add timezone info to timestamps.\n",
      "  new_obj[k] = extract_dates(v)\n"
     ]
    }
   ],
   "source": [
    "#Check how many feasible solutions per condition.\n",
    "print(rip_cdmm_no_gs_max.flux_samples.shape) #287 samplings, 324 rxns\n",
    "print(rip_iec_no_gs_max.flux_samples.shape) #500 samplings, 331 rxns"
   ]
  },
  {
   "cell_type": "markdown",
   "metadata": {
    "collapsed": true
   },
   "source": [
    "# Repeat Analyses -G"
   ]
  },
  {
   "cell_type": "markdown",
   "metadata": {},
   "source": [
    "## Load model for CDMM -G"
   ]
  },
  {
   "cell_type": "code",
   "execution_count": 24,
   "metadata": {
    "collapsed": false
   },
   "outputs": [
    {
     "name": "stderr",
     "output_type": "stream",
     "text": [
      "/Users/kathleenfurtado/anaconda3/envs/riptide3/lib/python3.8/site-packages/jupyter_client/jsonutil.py:75: DeprecationWarning: Interpreting naive datetime as local 2023-12-30 23:55:24.063216. Please add timezone info to timestamps.\n",
      "  new_obj[k] = extract_dates(v)\n"
     ]
    },
    {
     "data": {
      "text/plain": [
       "74.3745987238828"
      ]
     },
     "execution_count": 24,
     "metadata": {},
     "output_type": "execute_result"
    }
   ],
   "source": [
    "##Load model and edit for CDMM media (no mucus)\n",
    "#Using all amino acids\n",
    "#Glycine removed\n",
    "\n",
    "#Load model\n",
    "r20291=cobra.io.read_sbml_model(\"/Users/kathleenfurtado/RIPTIDE/iCdR703.sbml\")\n",
    "\n",
    "#Specify ingredients for CDMM and their ID in model\n",
    "cdmm_no_g = {'cpd00001_e', # water\n",
    "        'cpd00104_e', # Biotin\n",
    "        'cpd00644_e', # Pantothenate\n",
    "        'cpd00263_e', # Pyridoxine\n",
    "        'cpd00149_e', # Cobalt\n",
    "        'cpd00099_e', # Chloride\n",
    "        'cpd10515_e', # Iron\n",
    "        'cpd00030_e', # Manganese\n",
    "        'cpd00254_e', # Magnesium\n",
    "        'cpd00063_e', # Calcium\n",
    "        'cpd00205_e', # Potassium\n",
    "        'cpd00009_e', # Phosphate\n",
    "        'cpd00971_e', # Sodium\n",
    "        'cpd00242_e', # Carbonate\n",
    "        'cpd00013_e', # Ammonia\n",
    "        'cpd00027_e', # D-Glucose\n",
    "        'cpd00322_e', # L-Isoleucine\n",
    "        'cpd00129_e', # L-Proline\n",
    "        'cpd00156_e', # L-Valine\n",
    "        'cpd00107_e', # L-Leucine\n",
    "        'cpd00084_e', # L-Cysteine\n",
    "        'cpd00065_e', # L-Tryptophan\n",
    "        'cpd00039_e', # L-Lysine\n",
    "        'cpd00119_e', # L-Histidine\n",
    "        'cpd00051_e', # L-Arginine\n",
    "        'cpd00041_e', # L-Aspartate\n",
    "        'cpd00161_e', # L-Threonine\n",
    "        'cpd00054_e', # L-Serine\n",
    "        'cpd00023_e', # L-Glutamate\n",
    "        'cpd00035_e', # L-Alanine\n",
    "        'cpd00060_e', # L-Methionine\n",
    "        'cpd00069_e', # L-Tyrosine\n",
    "        'cpd00066_e', # L-Phenylalanine\n",
    "        'cpd00053_e', # L-Glutamine\n",
    "        'cpd00132_e'} # L-Asparagine\n",
    "\n",
    "# Add 'EX_' to specify exchange reactions for minimal media components\n",
    "cdmm_ex = {'EX_' + x for x in cdmm_no_g}\n",
    "\n",
    "# Turn off all exchanges unless in minimal media\n",
    "for i in r20291.exchanges:\n",
    "    i.upper_bound = 1000\n",
    "    if not i.id in cdmm_ex:\n",
    "        i.lower_bound = 0.\n",
    "    else: \n",
    "        i.lower_bound = -1000.\n",
    "        \n",
    "# Check R20291 growth in CDMM\n",
    "r20291.slim_optimize()"
   ]
  },
  {
   "cell_type": "markdown",
   "metadata": {},
   "source": [
    "## Run RIPTIDE for No Mucus -G"
   ]
  },
  {
   "cell_type": "code",
   "execution_count": 25,
   "metadata": {
    "collapsed": false
   },
   "outputs": [
    {
     "name": "stderr",
     "output_type": "stream",
     "text": [
      "/Users/kathleenfurtado/anaconda3/envs/riptide3/lib/python3.8/site-packages/jupyter_client/jsonutil.py:75: DeprecationWarning: Interpreting naive datetime as local 2023-12-30 23:55:49.729612. Please add timezone info to timestamps.\n",
      "  new_obj[k] = extract_dates(v)\n"
     ]
    },
    {
     "name": "stdout",
     "output_type": "stream",
     "text": [
      "\n",
      "Initializing model and integrating transcriptomic data...\n",
      "Pruning zero flux subnetworks...\n",
      "Analyzing context-specific flux distributions...\n",
      "\n",
      "Reactions pruned to 324 from 1313 (75.32% change)\n",
      "Metabolites pruned to 325 from 1243 (73.85% change)\n",
      "Flux through the objective DECREASED to ~58.68 from ~74.37 (21.1% change)\n",
      "Context-specific metabolism does not correlate with transcriptome (r=0.062, n.s.)\n",
      "\n",
      "RIPTiDe completed in, 1 minute and 53 seconds \n",
      "\n",
      "\n",
      "Running max fit RIPTiDe for objective fraction range: 0.35 to 0.95 with intervals of 0.05 \n",
      "\n",
      "Testing minimum objective fractions...\n",
      "Fraction = 0.35 | Rho = 0.1101 ; p = 0.0577\n",
      "Fraction = 0.4 | Rho = 0.0759 ; p = 0.1912\n",
      "Fraction = 0.45 | Rho = 0.0754 ; p = 0.194\n",
      "Fraction = 0.5 | Rho = 0.034 ; p = 0.5586\n",
      "Fraction = 0.55 | Rho = 0.0897 ; p = 0.1111\n",
      "Fraction = 0.6 | Rho = 0.0073 ; p = 0.8969\n",
      "Fraction = 0.65 | Rho = 0.0336 ; p = 0.5495\n",
      "Fraction = 0.7 | Rho = 0.0638 ; p = 0.2525\n",
      "Fraction = 0.75 | Rho = 0.0641 ; p = 0.2495\n",
      "Fraction = 0.8 | Rho = 0.0625 ; p = 0.2622\n",
      "Fraction = 0.85 | Rho = 0.0227 ; p = 0.6838\n",
      "Fraction = 0.9 | Rho = 0.0124 ; p = 0.8228\n",
      "Testing local objective fractions to 0.35...\n",
      "Fraction = 0.325 | Rho = 0.1117 ; p = 0.0541\n",
      "Fraction = 0.375 | Rho = 0.0813 ; p = 0.1613\n",
      "\n",
      "Context-specific metabolism fit with 0.325 of optimal objective flux\n",
      "\n",
      "Reactions pruned to 298 from 1313 (77.3% change)\n",
      "Metabolites pruned to 300 from 1243 (75.86% change)\n",
      "Flux through the objective DECREASED to ~35.26 from ~74.37 (52.59% change)\n",
      "Context-specific metabolism does not correlate with transcriptome (r=0.112, n.s.)\n",
      "\n",
      "Maxfit RIPTiDe completed in, 26 minutes and 50 seconds \n",
      "\n"
     ]
    }
   ],
   "source": [
    "#Create RIPTIDE Objects\n",
    "rip_cdmm_no_g = riptide.contextualize(model=r20291, conservative=False, transcriptome=cdmm)\n",
    "rip_cdmm_no_g_max = riptide.maxfit_contextualize(model=r20291, conservative=False, transcriptome=cdmm)"
   ]
  },
  {
   "cell_type": "code",
   "execution_count": 28,
   "metadata": {
    "collapsed": false
   },
   "outputs": [
    {
     "name": "stderr",
     "output_type": "stream",
     "text": [
      "/Users/kathleenfurtado/anaconda3/envs/riptide3/lib/python3.8/site-packages/jupyter_client/jsonutil.py:75: DeprecationWarning: Interpreting naive datetime as local 2023-12-31 10:26:39.322363. Please add timezone info to timestamps.\n",
      "  new_obj[k] = extract_dates(v)\n"
     ]
    },
    {
     "name": "stdout",
     "output_type": "stream",
     "text": [
      "WARNING: Output path already exists, overwriting previous files\n",
      "WARNING: Output path already exists, overwriting previous files\n"
     ]
    }
   ],
   "source": [
    "#Save Output\n",
    "riptide.save_output(riptide_obj=rip_cdmm_no_g, path='/Users/kathleenfurtado/RIPTIDE/riptide_cdmm_no_g')\n",
    "riptide.save_output(riptide_obj=rip_cdmm_no_g_max, path='/Users/kathleenfurtado/RIPTIDE/riptide_cdmm_no_g_max')"
   ]
  },
  {
   "cell_type": "markdown",
   "metadata": {},
   "source": [
    "## Load model for CDMM +Mucus -G"
   ]
  },
  {
   "cell_type": "code",
   "execution_count": 29,
   "metadata": {
    "collapsed": false
   },
   "outputs": [
    {
     "name": "stderr",
     "output_type": "stream",
     "text": [
      "/Users/kathleenfurtado/anaconda3/envs/riptide3/lib/python3.8/site-packages/jupyter_client/jsonutil.py:75: DeprecationWarning: Interpreting naive datetime as local 2023-12-31 10:27:05.220775. Please add timezone info to timestamps.\n",
      "  new_obj[k] = extract_dates(v)\n"
     ]
    },
    {
     "data": {
      "text/plain": [
       "84.62195562073408"
      ]
     },
     "execution_count": 29,
     "metadata": {},
     "output_type": "execute_result"
    }
   ],
   "source": [
    "##Load model and edit for CDMM media with monosaccharides derived from N- and O-glycans\n",
    "#Removed glycine\n",
    "\n",
    "#Reload model\n",
    "r20291=cobra.io.read_sbml_model(\"/Users/kathleenfurtado/RIPTIDE/iCdR703.sbml\")\n",
    "\n",
    "cdmm_muc_no_g = {'cpd00001_e', # water\n",
    "        'cpd00104_e', # Biotin\n",
    "        'cpd00644_e', # Pantothenate\n",
    "        'cpd00263_e', # Pyridoxine\n",
    "        'cpd00149_e', # Cobalt\n",
    "        'cpd00099_e', # Chloride\n",
    "        'cpd10515_e', # Iron\n",
    "        'cpd00030_e', # Manganese\n",
    "        'cpd00254_e', # Magnesium\n",
    "        'cpd00063_e', # Calcium\n",
    "        'cpd00205_e', # Potassium\n",
    "        'cpd00009_e', # Phosphate\n",
    "        'cpd00971_e', # Sodium\n",
    "        'cpd00242_e', # Carbonate\n",
    "        'cpd00013_e', # Ammonia\n",
    "        'cpd00027_e', # D-Glucose\n",
    "        'cpd00322_e', # L-Isoleucine\n",
    "        'cpd00129_e', # L-Proline\n",
    "        'cpd00156_e', # L-Valine\n",
    "        'cpd00107_e', # L-Leucine\n",
    "        'cpd00084_e', # L-Cysteine\n",
    "        'cpd00065_e', # L-Tryptophan\n",
    "        'cpd00039_e', # L-Lysine\n",
    "        'cpd00119_e', # L-Histidine\n",
    "        'cpd00051_e', # L-Arginine\n",
    "        'cpd00041_e', # L-Aspartate\n",
    "        'cpd00161_e', # L-Threonine\n",
    "        'cpd00054_e', # L-Serine\n",
    "        'cpd00023_e', # L-Glutamate\n",
    "        'cpd00035_e', # L-Alanine\n",
    "        'cpd00060_e', # L-Methionine\n",
    "        'cpd00069_e', # L-Tyrosine\n",
    "        'cpd00066_e', # L-Phenylalanine\n",
    "        'cpd00053_e', # L-Glutamine\n",
    "        'cpd00132_e', # L-Asparagine\n",
    "        'cpd00122_e', # N-Acetyl-D-glucosamine\n",
    "        'cpd27607_e', # N-Acetyl-D-galactosamine\n",
    "        'cpd00232_e', # Neu5Ac\n",
    "        'cpd00108_e', # Galactose\n",
    "        'cpd00751_e', # L-Fucose\n",
    "        'cpd00138_e'} # D-Mannose\n",
    "\n",
    "# minimal media exchange reactions\n",
    "cdmm_ex = {'EX_' + x for x in cdmm_muc_no_g}\n",
    "\n",
    "# Turn off all exchanges unless in minimal media\n",
    "for i in r20291.exchanges:\n",
    "    i.upper_bound = 1000\n",
    "    if not i.id in cdmm_ex:\n",
    "        i.lower_bound = 0.\n",
    "    else: \n",
    "        i.lower_bound = -1000.\n",
    "        \n",
    "# Check R20291 growth in CDMM\n",
    "r20291.slim_optimize()"
   ]
  },
  {
   "cell_type": "markdown",
   "metadata": {},
   "source": [
    "## Run RIPTIDE for +Mucus -G"
   ]
  },
  {
   "cell_type": "code",
   "execution_count": 30,
   "metadata": {
    "collapsed": false
   },
   "outputs": [
    {
     "name": "stderr",
     "output_type": "stream",
     "text": [
      "/Users/kathleenfurtado/anaconda3/envs/riptide3/lib/python3.8/site-packages/jupyter_client/jsonutil.py:75: DeprecationWarning: Interpreting naive datetime as local 2023-12-31 10:27:34.658915. Please add timezone info to timestamps.\n",
      "  new_obj[k] = extract_dates(v)\n"
     ]
    },
    {
     "name": "stdout",
     "output_type": "stream",
     "text": [
      "\n",
      "Initializing model and integrating transcriptomic data...\n",
      "Pruning zero flux subnetworks...\n",
      "Analyzing context-specific flux distributions...\n",
      "\n",
      "Reactions pruned to 341 from 1313 (74.03% change)\n",
      "Metabolites pruned to 336 from 1243 (72.97% change)\n",
      "Flux through the objective DECREASED to ~72.03 from ~84.62 (14.88% change)\n",
      "Context-specific metabolism does not correlate with transcriptome (r=0.004, n.s.)\n",
      "\n",
      "RIPTiDe completed in, 1 minute and 16 seconds \n",
      "\n",
      "\n",
      "Running max fit RIPTiDe for objective fraction range: 0.35 to 0.95 with intervals of 0.05 \n",
      "\n",
      "Testing minimum objective fractions...\n",
      "Fraction = 0.35 | Rho = 0.0363 ; p = 0.5214\n",
      "Fraction = 0.4 | Rho = 0.0351 ; p = 0.5355\n",
      "Fraction = 0.45 | Rho = 0.0009 ; p = 0.9867\n",
      "Fraction = 0.5 | Rho = 0.036 ; p = 0.5116\n",
      "Fraction = 0.55 | Rho = 0.0534 ; p = 0.3321\n",
      "Fraction = 0.6 | Rho = 0.0002 ; p = 0.997\n",
      "Fraction = 0.65 | Rho = 0.0055 ; p = 0.9192\n",
      "Fraction = 0.7 | Rho = 0.0151 ; p = 0.7819\n",
      "Fraction = 0.75 | Rho = 0.0068 ; p = 0.9\n",
      "Fraction = 0.8 | Rho = 0.0042 ; p = 0.9383\n",
      "Fraction = 0.85 | Rho = 0.001 ; p = 0.9861\n",
      "Fraction = 0.9 | Rho = 0.0059 ; p = 0.9128\n",
      "Testing local objective fractions to 0.55...\n",
      "Fraction = 0.525 | Rho = 0.08 ; p = 0.1439\n",
      "Fraction = 0.575 | Rho = 0.0173 ; p = 0.751\n",
      "\n",
      "Context-specific metabolism fit with 0.525 of optimal objective flux\n",
      "\n",
      "Reactions pruned to 335 from 1313 (74.49% change)\n",
      "Metabolites pruned to 330 from 1243 (73.45% change)\n",
      "Flux through the objective DECREASED to ~51.03 from ~84.62 (39.7% change)\n",
      "Context-specific metabolism does not correlate with transcriptome (r=0.08, n.s.)\n",
      "\n",
      "Maxfit RIPTiDe completed in, 18 minutes and 49 seconds \n",
      "\n"
     ]
    }
   ],
   "source": [
    "#Create RIPTIDE Objects\n",
    "rip_iec_no_g = riptide.contextualize(model=r20291, conservative=False, transcriptome=iec)\n",
    "rip_iec_no_g_max = riptide.maxfit_contextualize(model=r20291, conservative=False, transcriptome=iec)"
   ]
  },
  {
   "cell_type": "code",
   "execution_count": 31,
   "metadata": {
    "collapsed": false
   },
   "outputs": [
    {
     "name": "stderr",
     "output_type": "stream",
     "text": [
      "/Users/kathleenfurtado/anaconda3/envs/riptide3/lib/python3.8/site-packages/jupyter_client/jsonutil.py:75: DeprecationWarning: Interpreting naive datetime as local 2023-12-31 10:50:12.865911. Please add timezone info to timestamps.\n",
      "  new_obj[k] = extract_dates(v)\n"
     ]
    },
    {
     "name": "stdout",
     "output_type": "stream",
     "text": [
      "WARNING: Output path already exists, overwriting previous files\n"
     ]
    }
   ],
   "source": [
    "#Save Output\n",
    "riptide.save_output(riptide_obj=rip_iec_no_g, path='/Users/kathleenfurtado/RIPTIDE/riptide_iec_no_g')\n",
    "riptide.save_output(riptide_obj=rip_iec_no_g_max, path='/Users/kathleenfurtado/RIPTIDE/riptide_iec_no_g_max')"
   ]
  },
  {
   "cell_type": "code",
   "execution_count": 32,
   "metadata": {
    "collapsed": false
   },
   "outputs": [
    {
     "name": "stdout",
     "output_type": "stream",
     "text": [
      "(500, 298)\n",
      "(500, 335)\n"
     ]
    },
    {
     "name": "stderr",
     "output_type": "stream",
     "text": [
      "/Users/kathleenfurtado/anaconda3/envs/riptide3/lib/python3.8/site-packages/jupyter_client/jsonutil.py:75: DeprecationWarning: Interpreting naive datetime as local 2023-12-31 10:50:25.551648. Please add timezone info to timestamps.\n",
      "  new_obj[k] = extract_dates(v)\n"
     ]
    }
   ],
   "source": [
    "#Check how many feasible solutions per condition.\n",
    "print(rip_cdmm_no_g_max.flux_samples.shape) #500 samplings, 298 rxns\n",
    "print(rip_iec_no_g_max.flux_samples.shape) #500 samplings, 335 rxns"
   ]
  },
  {
   "cell_type": "markdown",
   "metadata": {},
   "source": [
    "# Repeat Analyses -Ser"
   ]
  },
  {
   "cell_type": "markdown",
   "metadata": {},
   "source": [
    "## Load model for CDMM -S"
   ]
  },
  {
   "cell_type": "code",
   "execution_count": 33,
   "metadata": {
    "collapsed": false
   },
   "outputs": [
    {
     "name": "stderr",
     "output_type": "stream",
     "text": [
      "/Users/kathleenfurtado/anaconda3/envs/riptide3/lib/python3.8/site-packages/jupyter_client/jsonutil.py:75: DeprecationWarning: Interpreting naive datetime as local 2023-12-31 10:51:52.705049. Please add timezone info to timestamps.\n",
      "  new_obj[k] = extract_dates(v)\n"
     ]
    },
    {
     "data": {
      "text/plain": [
       "73.8476411998919"
      ]
     },
     "execution_count": 33,
     "metadata": {},
     "output_type": "execute_result"
    }
   ],
   "source": [
    "##Load model and edit for CDMM media (no mucus)\n",
    "#Remove serine\n",
    "\n",
    "#Load model\n",
    "r20291=cobra.io.read_sbml_model(\"/Users/kathleenfurtado/RIPTIDE/iCdR703.sbml\")\n",
    "\n",
    "#Specify ingredients for CDMM and their ID in model\n",
    "cdmm_no_s = {'cpd00001_e', # water\n",
    "        'cpd00104_e', # Biotin\n",
    "        'cpd00644_e', # Pantothenate\n",
    "        'cpd00263_e', # Pyridoxine\n",
    "        'cpd00149_e', # Cobalt\n",
    "        'cpd00099_e', # Chloride\n",
    "        'cpd10515_e', # Iron\n",
    "        'cpd00030_e', # Manganese\n",
    "        'cpd00254_e', # Magnesium\n",
    "        'cpd00063_e', # Calcium\n",
    "        'cpd00205_e', # Potassium\n",
    "        'cpd00009_e', # Phosphate\n",
    "        'cpd00971_e', # Sodium\n",
    "        'cpd00242_e', # Carbonate\n",
    "        'cpd00013_e', # Ammonia\n",
    "        'cpd00027_e', # D-Glucose\n",
    "        'cpd00322_e', # L-Isoleucine\n",
    "        'cpd00129_e', # L-Proline\n",
    "        'cpd00156_e', # L-Valine\n",
    "        'cpd00107_e', # L-Leucine\n",
    "        'cpd00084_e', # L-Cysteine\n",
    "        'cpd00065_e', # L-Tryptophan\n",
    "        'cpd00039_e', # L-Lysine\n",
    "        'cpd00119_e', # L-Histidine\n",
    "        'cpd00051_e', # L-Arginine\n",
    "        'cpd00041_e', # L-Aspartate\n",
    "        'cpd00161_e', # L-Threonine\n",
    "        'cpd00023_e', # L-Glutamate\n",
    "        'cpd00033_e', # L-Glycine\n",
    "        'cpd00035_e', # L-Alanine\n",
    "        'cpd00060_e', # L-Methionine\n",
    "        'cpd00069_e', # L-Tyrosine\n",
    "        'cpd00066_e', # L-Phenylalanine\n",
    "        'cpd00053_e', # L-Glutamine\n",
    "        'cpd00132_e'} # L-Asparagine\n",
    "\n",
    "# Add 'EX_' to specify exchange reactions for minimal media components\n",
    "cdmm_ex = {'EX_' + x for x in cdmm_no_s}\n",
    "\n",
    "# Turn off all exchanges unless in minimal media\n",
    "for i in r20291.exchanges:\n",
    "    i.upper_bound = 1000\n",
    "    if not i.id in cdmm_ex:\n",
    "        i.lower_bound = 0.\n",
    "    else: \n",
    "        i.lower_bound = -1000.\n",
    "        \n",
    "# Check R20291 growth in CDMM\n",
    "r20291.slim_optimize()"
   ]
  },
  {
   "cell_type": "markdown",
   "metadata": {},
   "source": [
    "## Run RIPTIDE for No Mucus -S"
   ]
  },
  {
   "cell_type": "code",
   "execution_count": 34,
   "metadata": {
    "collapsed": false
   },
   "outputs": [
    {
     "name": "stderr",
     "output_type": "stream",
     "text": [
      "/Users/kathleenfurtado/anaconda3/envs/riptide3/lib/python3.8/site-packages/jupyter_client/jsonutil.py:75: DeprecationWarning: Interpreting naive datetime as local 2023-12-31 10:51:58.766240. Please add timezone info to timestamps.\n",
      "  new_obj[k] = extract_dates(v)\n"
     ]
    },
    {
     "name": "stdout",
     "output_type": "stream",
     "text": [
      "\n",
      "Initializing model and integrating transcriptomic data...\n",
      "Pruning zero flux subnetworks...\n",
      "Analyzing context-specific flux distributions...\n",
      "\n",
      "Reactions pruned to 324 from 1313 (75.32% change)\n",
      "Metabolites pruned to 325 from 1243 (73.85% change)\n",
      "Flux through the objective DECREASED to ~58.68 from ~73.85 (20.54% change)\n",
      "Context-specific metabolism does not correlate with transcriptome (r=0.062, n.s.)\n",
      "\n",
      "RIPTiDe completed in, 1 minute and 55 seconds \n",
      "\n",
      "\n",
      "Running max fit RIPTiDe for objective fraction range: 0.35 to 0.95 with intervals of 0.05 \n",
      "\n",
      "Testing minimum objective fractions...\n",
      "Fraction = 0.35 | Rho = 0.0985 ; p = 0.089\n",
      "Fraction = 0.4 | Rho = 0.1014 ; p = 0.0801\n",
      "Fraction = 0.45 | Rho = 0.1162 ; p = 0.0446\n",
      "Fraction = 0.5 | Rho = 0.0432 ; p = 0.4577\n",
      "Fraction = 0.55 | Rho = 0.0715 ; p = 0.2135\n",
      "Fraction = 0.6 | Rho = 0.0073 ; p = 0.8969\n",
      "Fraction = 0.65 | Rho = 0.0636 ; p = 0.2603\n",
      "Fraction = 0.7 | Rho = 0.0611 ; p = 0.2724\n",
      "Fraction = 0.75 | Rho = 0.0614 ; p = 0.2698\n",
      "Fraction = 0.8 | Rho = 0.0625 ; p = 0.2622\n",
      "Fraction = 0.85 | Rho = 0.0555 ; p = 0.3189\n",
      "Fraction = 0.9 | Rho = 0.0195 ; p = 0.725\n",
      "Testing local objective fractions to 0.45...\n",
      "Fraction = 0.425 | Rho = 0.0758 ; p = 0.1911\n",
      "Fraction = 0.475 | Rho = 0.0384 ; p = 0.509\n",
      "\n",
      "Context-specific metabolism fit with 0.45 of optimal objective flux\n",
      "\n",
      "Reactions pruned to 299 from 1313 (77.23% change)\n",
      "Metabolites pruned to 300 from 1243 (75.86% change)\n",
      "Flux through the objective DECREASED to ~34.71 from ~73.85 (53.0% change)\n",
      "Context-specific metabolism correlates with transcriptome (r=0.116, p=0.045 *)\n",
      "\n",
      "Maxfit RIPTiDe completed in, 18 minutes and 21 seconds \n",
      "\n"
     ]
    }
   ],
   "source": [
    "#Create RIPTIDE Objects\n",
    "rip_cdmm_no_s = riptide.contextualize(model=r20291, conservative=False, transcriptome=cdmm)\n",
    "rip_cdmm_no_s_max = riptide.maxfit_contextualize(model=r20291, conservative=False, transcriptome=cdmm)"
   ]
  },
  {
   "cell_type": "code",
   "execution_count": 35,
   "metadata": {
    "collapsed": false
   },
   "outputs": [
    {
     "name": "stderr",
     "output_type": "stream",
     "text": [
      "/Users/kathleenfurtado/anaconda3/envs/riptide3/lib/python3.8/site-packages/jupyter_client/jsonutil.py:75: DeprecationWarning: Interpreting naive datetime as local 2023-12-31 11:16:29.654337. Please add timezone info to timestamps.\n",
      "  new_obj[k] = extract_dates(v)\n"
     ]
    },
    {
     "name": "stdout",
     "output_type": "stream",
     "text": [
      "WARNING: Output path already exists, overwriting previous files\n"
     ]
    }
   ],
   "source": [
    "#Save Output\n",
    "riptide.save_output(riptide_obj=rip_cdmm_no_s, path='/Users/kathleenfurtado/RIPTIDE/riptide_cdmm_no_s')\n",
    "riptide.save_output(riptide_obj=rip_cdmm_no_s_max, path='/Users/kathleenfurtado/RIPTIDE/riptide_cdmm_no_s_max')"
   ]
  },
  {
   "cell_type": "markdown",
   "metadata": {},
   "source": [
    "## Load model for CDMM +Mucus -S"
   ]
  },
  {
   "cell_type": "code",
   "execution_count": 36,
   "metadata": {
    "collapsed": false
   },
   "outputs": [
    {
     "name": "stderr",
     "output_type": "stream",
     "text": [
      "/Users/kathleenfurtado/anaconda3/envs/riptide3/lib/python3.8/site-packages/jupyter_client/jsonutil.py:75: DeprecationWarning: Interpreting naive datetime as local 2023-12-31 11:16:43.606115. Please add timezone info to timestamps.\n",
      "  new_obj[k] = extract_dates(v)\n"
     ]
    },
    {
     "data": {
      "text/plain": [
       "84.5537694497864"
      ]
     },
     "execution_count": 36,
     "metadata": {},
     "output_type": "execute_result"
    }
   ],
   "source": [
    "##Load model and edit for CDMM media with monosaccharides derived from N- and O-glycans\n",
    "#Serine removed\n",
    "\n",
    "#Reload model\n",
    "r20291=cobra.io.read_sbml_model(\"/Users/kathleenfurtado/RIPTIDE/iCdR703.sbml\")\n",
    "\n",
    "cdmm_muc_no_s = {'cpd00001_e', # water\n",
    "        'cpd00104_e', # Biotin\n",
    "        'cpd00644_e', # Pantothenate\n",
    "        'cpd00263_e', # Pyridoxine\n",
    "        'cpd00149_e', # Cobalt\n",
    "        'cpd00099_e', # Chloride\n",
    "        'cpd10515_e', # Iron\n",
    "        'cpd00030_e', # Manganese\n",
    "        'cpd00254_e', # Magnesium\n",
    "        'cpd00063_e', # Calcium\n",
    "        'cpd00205_e', # Potassium\n",
    "        'cpd00009_e', # Phosphate\n",
    "        'cpd00971_e', # Sodium\n",
    "        'cpd00242_e', # Carbonate\n",
    "        'cpd00013_e', # Ammonia\n",
    "        'cpd00027_e', # D-Glucose\n",
    "        'cpd00322_e', # L-Isoleucine\n",
    "        'cpd00129_e', # L-Proline\n",
    "        'cpd00156_e', # L-Valine\n",
    "        'cpd00107_e', # L-Leucine\n",
    "        'cpd00084_e', # L-Cysteine\n",
    "        'cpd00065_e', # L-Tryptophan\n",
    "        'cpd00039_e', # L-Lysine\n",
    "        'cpd00119_e', # L-Histidine\n",
    "        'cpd00051_e', # L-Arginine\n",
    "        'cpd00041_e', # L-Aspartate\n",
    "        'cpd00161_e', # L-Threonine\n",
    "        'cpd00023_e', # L-Glutamate\n",
    "        'cpd00033_e', # L-Glycine\n",
    "        'cpd00035_e', # L-Alanine\n",
    "        'cpd00060_e', # L-Methionine\n",
    "        'cpd00069_e', # L-Tyrosine\n",
    "        'cpd00066_e', # L-Phenylalanine\n",
    "        'cpd00053_e', # L-Glutamine\n",
    "        'cpd00132_e', # L-Asparagine\n",
    "        'cpd00122_e', # N-Acetyl-D-glucosamine\n",
    "        'cpd27607_e', # N-Acetyl-D-galactosamine\n",
    "        'cpd00232_e', # Neu5Ac\n",
    "        'cpd00108_e', # Galactose\n",
    "        'cpd00751_e', # L-Fucose\n",
    "        'cpd00138_e'} # D-Mannose\n",
    "\n",
    "# minimal media exchange reactions\n",
    "cdmm_ex = {'EX_' + x for x in cdmm_muc_no_s}\n",
    "\n",
    "# Turn off all exchanges unless in minimal media\n",
    "for i in r20291.exchanges:\n",
    "    i.upper_bound = 1000\n",
    "    if not i.id in cdmm_ex:\n",
    "        i.lower_bound = 0.\n",
    "    else: \n",
    "        i.lower_bound = -1000.\n",
    "        \n",
    "# Check R20291 growth in CDMM\n",
    "r20291.slim_optimize()"
   ]
  },
  {
   "cell_type": "markdown",
   "metadata": {},
   "source": [
    "## Run RIPTIDE for +Mucus -S"
   ]
  },
  {
   "cell_type": "code",
   "execution_count": 37,
   "metadata": {
    "collapsed": false
   },
   "outputs": [
    {
     "name": "stderr",
     "output_type": "stream",
     "text": [
      "/Users/kathleenfurtado/anaconda3/envs/riptide3/lib/python3.8/site-packages/jupyter_client/jsonutil.py:75: DeprecationWarning: Interpreting naive datetime as local 2023-12-31 11:17:16.380461. Please add timezone info to timestamps.\n",
      "  new_obj[k] = extract_dates(v)\n"
     ]
    },
    {
     "name": "stdout",
     "output_type": "stream",
     "text": [
      "\n",
      "Initializing model and integrating transcriptomic data...\n",
      "Pruning zero flux subnetworks...\n",
      "Analyzing context-specific flux distributions...\n",
      "\n",
      "Reactions pruned to 331 from 1313 (74.79% change)\n",
      "Metabolites pruned to 328 from 1243 (73.61% change)\n",
      "Flux through the objective DECREASED to ~66.06 from ~84.55 (21.87% change)\n",
      "Context-specific metabolism does not correlate with transcriptome (r=0.038, n.s.)\n",
      "\n",
      "RIPTiDe completed in, 1 minute and 16 seconds \n",
      "\n",
      "\n",
      "Running max fit RIPTiDe for objective fraction range: 0.35 to 0.95 with intervals of 0.05 \n",
      "\n",
      "Testing minimum objective fractions...\n",
      "Fraction = 0.35 | Rho = 0.0363 ; p = 0.5214\n",
      "Fraction = 0.4 | Rho = 0.0381 ; p = 0.5016\n",
      "Fraction = 0.45 | Rho = 0.0071 ; p = 0.9005\n",
      "Fraction = 0.5 | Rho = 0.0535 ; p = 0.3316\n",
      "Fraction = 0.55 | Rho = 0.0504 ; p = 0.358\n",
      "Fraction = 0.6 | Rho = 0.0131 ; p = 0.8088\n",
      "Fraction = 0.65 | Rho = 0.0164 ; p = 0.7669\n",
      "Fraction = 0.7 | Rho = 0.0235 ; p = 0.6699\n",
      "Fraction = 0.75 | Rho = 0.0127 ; p = 0.8183\n",
      "Fraction = 0.8 | Rho = 0.0381 ; p = 0.4901\n",
      "Fraction = 0.85 | Rho = 0.0253 ; p = 0.6439\n",
      "Fraction = 0.9 | Rho = 0.0469 ; p = 0.3826\n",
      "Testing local objective fractions to 0.5...\n",
      "Fraction = 0.475 | Rho = 0.0437 ; p = 0.4315\n",
      "Fraction = 0.525 | Rho = 0.0845 ; p = 0.1225\n",
      "\n",
      "Context-specific metabolism fit with 0.525 of optimal objective flux\n",
      "\n",
      "Reactions pruned to 335 from 1313 (74.49% change)\n",
      "Metabolites pruned to 330 from 1243 (73.45% change)\n",
      "Flux through the objective DECREASED to ~49.14 from ~84.55 (41.88% change)\n",
      "Context-specific metabolism does not correlate with transcriptome (r=0.085, n.s.)\n",
      "\n",
      "Maxfit RIPTiDe completed in, 19 minutes and 9 seconds \n",
      "\n"
     ]
    }
   ],
   "source": [
    "#Create RIPTIDE Objects\n",
    "rip_iec_no_s = riptide.contextualize(model=r20291, conservative=False, transcriptome=iec)\n",
    "rip_iec_no_s_max = riptide.maxfit_contextualize(model=r20291, conservative=False, transcriptome=iec)"
   ]
  },
  {
   "cell_type": "code",
   "execution_count": 38,
   "metadata": {
    "collapsed": false
   },
   "outputs": [
    {
     "name": "stderr",
     "output_type": "stream",
     "text": [
      "/Users/kathleenfurtado/anaconda3/envs/riptide3/lib/python3.8/site-packages/jupyter_client/jsonutil.py:75: DeprecationWarning: Interpreting naive datetime as local 2023-12-31 14:40:34.474075. Please add timezone info to timestamps.\n",
      "  new_obj[k] = extract_dates(v)\n"
     ]
    },
    {
     "name": "stdout",
     "output_type": "stream",
     "text": [
      "WARNING: Output path already exists, overwriting previous files\n"
     ]
    }
   ],
   "source": [
    "#Save Output\n",
    "riptide.save_output(riptide_obj=rip_iec_no_s, path='/Users/kathleenfurtado/RIPTIDE/riptide_iec_no_s')\n",
    "riptide.save_output(riptide_obj=rip_iec_no_s_max, path='/Users/kathleenfurtado/RIPTIDE/riptide_iec_no_s_max')"
   ]
  },
  {
   "cell_type": "code",
   "execution_count": 39,
   "metadata": {
    "collapsed": false
   },
   "outputs": [
    {
     "name": "stdout",
     "output_type": "stream",
     "text": [
      "(500, 299)\n",
      "(500, 335)\n"
     ]
    },
    {
     "name": "stderr",
     "output_type": "stream",
     "text": [
      "/Users/kathleenfurtado/anaconda3/envs/riptide3/lib/python3.8/site-packages/jupyter_client/jsonutil.py:75: DeprecationWarning: Interpreting naive datetime as local 2023-12-31 14:40:47.542318. Please add timezone info to timestamps.\n",
      "  new_obj[k] = extract_dates(v)\n"
     ]
    }
   ],
   "source": [
    "#Check how many feasible solutions per condition.\n",
    "print(rip_cdmm_no_s_max.flux_samples.shape) #500 samplings, 299 rxns\n",
    "print(rip_iec_no_s_max.flux_samples.shape) #500 samplings, 335 rxns"
   ]
  },
  {
   "cell_type": "markdown",
   "metadata": {
    "collapsed": true
   },
   "source": [
    "# Run RIPTiDe for conditions -T"
   ]
  },
  {
   "cell_type": "markdown",
   "metadata": {},
   "source": [
    "## Load model for CDMM -T"
   ]
  },
  {
   "cell_type": "code",
   "execution_count": 6,
   "metadata": {
    "collapsed": false
   },
   "outputs": [
    {
     "data": {
      "text/plain": [
       "74.28140883863611"
      ]
     },
     "execution_count": 6,
     "metadata": {},
     "output_type": "execute_result"
    }
   ],
   "source": [
    "##Media formulation for CDMM with all amino acids\n",
    "\n",
    "#Reload model\n",
    "r20291=cobra.io.read_sbml_model(\"/Users/kathleenfurtado/RIPTIDE/iCdR703_gh.sbml\")\n",
    "\n",
    "cdmm_noT = {'cpd00001_e', # water\n",
    "        'cpd00104_e', # Biotin\n",
    "        'cpd00644_e', # Pantothenate\n",
    "        'cpd00263_e', # Pyridoxine\n",
    "        'cpd00149_e', # Cobalt\n",
    "        'cpd00099_e', # Chloride\n",
    "        'cpd10515_e', # Iron\n",
    "        'cpd00030_e', # Manganese\n",
    "        'cpd00254_e', # Magnesium\n",
    "        'cpd00063_e', # Calcium\n",
    "        'cpd00205_e', # Potassium\n",
    "        'cpd00009_e', # Phosphate\n",
    "        'cpd00971_e', # Sodium\n",
    "        'cpd00242_e', # Carbonate\n",
    "        'cpd00027_e', # Glucose\n",
    "        'cpd00013_e', # Ammonia\n",
    "        'cpd00322_e', # L-Isoleucine\n",
    "        'cpd00129_e', # L-Proline\n",
    "        'cpd00156_e', # L-Valine\n",
    "        'cpd00107_e', # L-Leucine\n",
    "        'cpd00084_e', # L-Cysteine\n",
    "        'cpd00065_e', # L-Tryptophan\n",
    "        'cpd00039_e', # L-Lysine\n",
    "        'cpd00119_e', # L-Histidine\n",
    "        'cpd00051_e', # L-Arginine\n",
    "        'cpd00041_e', # L-Aspartate\n",
    "        'cpd00054_e', # L-Serine\n",
    "        'cpd00023_e', # L-Glutamate\n",
    "        'cpd00033_e', # L-Glycine\n",
    "        'cpd00035_e', # L-Alanine\n",
    "        'cpd00060_e', # L-Methionine\n",
    "        'cpd00069_e', # L-Tyrosine\n",
    "        'cpd00066_e', # L-Phenylalanine\n",
    "        'cpd00053_e', # L-Glutamine\n",
    "        'cpd00132_e'} # L-Asparagine\n",
    "\n",
    "# minimal media exchange reactions\n",
    "cdmm_ex = {'EX_' + x for x in cdmm_noT}\n",
    "\n",
    "# Turn off all exchanges unless in minimal media\n",
    "for i in r20291.exchanges:\n",
    "    i.upper_bound = 1000\n",
    "    if not i.id in cdmm_ex:\n",
    "        i.lower_bound = 0.\n",
    "    else: \n",
    "        i.lower_bound = -1000.\n",
    "        \n",
    "# Check R20291 growth in CDMM\n",
    "r20291.slim_optimize()"
   ]
  },
  {
   "cell_type": "markdown",
   "metadata": {},
   "source": [
    "## Run RIPTIDE for CDMM -T"
   ]
  },
  {
   "cell_type": "code",
   "execution_count": 8,
   "metadata": {
    "collapsed": false
   },
   "outputs": [
    {
     "name": "stdout",
     "output_type": "stream",
     "text": [
      "\n",
      "Initializing model and integrating transcriptomic data...\n",
      "Pruning zero flux subnetworks...\n",
      "Analyzing context-specific flux distributions...\n",
      "\n",
      "Reactions pruned to 327 from 1313 (75.1% change)\n",
      "Metabolites pruned to 326 from 1243 (73.77% change)\n",
      "Flux through the objective DECREASED to ~65.69 from ~74.28 (11.56% change)\n",
      "Context-specific metabolism does not correlate with transcriptome (r=0.014, n.s.)\n",
      "\n",
      "RIPTiDe completed in, 2 minutes and 4 seconds \n",
      "\n",
      "\n",
      "Running max fit RIPTiDe for objective fraction range: 0.35 to 0.95 with intervals of 0.05 \n",
      "\n",
      "Testing minimum objective fractions...\n",
      "Fraction = 0.35 | Rho = 0.0961 ; p = 0.0971\n",
      "Fraction = 0.4 | Rho = 0.0686 ; p = 0.2372\n",
      "Fraction = 0.45 | Rho = 0.0724 ; p = 0.212\n",
      "Fraction = 0.5 | Rho = 0.0894 ; p = 0.1242\n",
      "Fraction = 0.55 | Rho = 0.0484 ; p = 0.3892\n",
      "Fraction = 0.6 | Rho = 0.0093 ; p = 0.8698\n",
      "Fraction = 0.65 | Rho = 0.0645 ; p = 0.2494\n",
      "Fraction = 0.7 | Rho = 0.0477 ; p = 0.3932\n",
      "Fraction = 0.75 | Rho = 0.0241 ; p = 0.6646\n",
      "Fraction = 0.8 | Rho = 0.014 ; p = 0.8012\n",
      "Fraction = 0.85 | Rho = 0.0151 ; p = 0.7847\n",
      "Fraction = 0.9 | Rho = 0.052 ; p = 0.3479\n",
      "Testing local objective fractions to 0.35...\n",
      "Fraction = 0.325 | Rho = 0.1166 ; p = 0.044\n",
      "Fraction = 0.375 | Rho = 0.0831 ; p = 0.1519\n",
      "\n",
      "Context-specific metabolism fit with 0.325 of optimal objective flux\n",
      "\n",
      "Reactions pruned to 299 from 1313 (77.23% change)\n",
      "Metabolites pruned to 301 from 1243 (75.78% change)\n",
      "Flux through the objective DECREASED to ~35.33 from ~74.28 (52.44% change)\n",
      "Context-specific metabolism correlates with transcriptome (r=0.117, p=0.044 *)\n",
      "\n",
      "Maxfit RIPTiDe completed in, 22 minutes and 46 seconds \n",
      "\n"
     ]
    }
   ],
   "source": [
    "#Create RIPTIDE Objects\n",
    "rip_cdmm_no_t = riptide.contextualize(model=r20291, conservative=False, transcriptome=cdmm)\n",
    "rip_cdmm_no_t_max = riptide.maxfit_contextualize(model=r20291, conservative=False, transcriptome=cdmm)"
   ]
  },
  {
   "cell_type": "markdown",
   "metadata": {},
   "source": [
    "## Load model for CDMM +Mucus -T"
   ]
  },
  {
   "cell_type": "code",
   "execution_count": 9,
   "metadata": {
    "collapsed": false
   },
   "outputs": [
    {
     "name": "stderr",
     "output_type": "stream",
     "text": [
      "/Users/kathleenfurtado/anaconda3/envs/riptide3/lib/python3.8/site-packages/jupyter_client/jsonutil.py:75: DeprecationWarning: Interpreting naive datetime as local 2024-01-04 18:41:04.366336. Please add timezone info to timestamps.\n",
      "  new_obj[k] = extract_dates(v)\n"
     ]
    },
    {
     "data": {
      "text/plain": [
       "84.45587573354359"
      ]
     },
     "execution_count": 9,
     "metadata": {},
     "output_type": "execute_result"
    }
   ],
   "source": [
    "##Load model and edit for CDMM media with monosaccharides derived from N- and O-glycans\n",
    "#Using all amino acids\n",
    "\n",
    "#Reload model\n",
    "r20291=cobra.io.read_sbml_model(\"/Users/kathleenfurtado/RIPTIDE/iCdR703_gh.sbml\")\n",
    "\n",
    "cdmm_muc_noT = {'cpd00001_e', # water\n",
    "        'cpd00104_e', # Biotin\n",
    "        'cpd00644_e', # Pantothenate\n",
    "        'cpd00263_e', # Pyridoxine\n",
    "        'cpd00149_e', # Cobalt\n",
    "        'cpd00099_e', # Chloride\n",
    "        'cpd10515_e', # Iron\n",
    "        'cpd00030_e', # Manganese\n",
    "        'cpd00254_e', # Magnesium\n",
    "        'cpd00063_e', # Calcium\n",
    "        'cpd00205_e', # Potassium\n",
    "        'cpd00009_e', # Phosphate\n",
    "        'cpd00971_e', # Sodium\n",
    "        'cpd00242_e', # Carbonate\n",
    "        'cpd00013_e', # Ammonia\n",
    "        'cpd00027_e', # D-Glucose\n",
    "        'cpd00322_e', # L-Isoleucine\n",
    "        'cpd00129_e', # L-Proline\n",
    "        'cpd00156_e', # L-Valine\n",
    "        'cpd00107_e', # L-Leucine\n",
    "        'cpd00084_e', # L-Cysteine\n",
    "        'cpd00065_e', # L-Tryptophan\n",
    "        'cpd00039_e', # L-Lysine\n",
    "        'cpd00119_e', # L-Histidine\n",
    "        'cpd00051_e', # L-Arginine\n",
    "        'cpd00041_e', # L-Aspartate\n",
    "        'cpd00054_e', # L-Serine\n",
    "        'cpd00023_e', # L-Glutamate\n",
    "        'cpd00033_e', # L-Glycine\n",
    "        'cpd00035_e', # L-Alanine\n",
    "        'cpd00060_e', # L-Methionine\n",
    "        'cpd00069_e', # L-Tyrosine\n",
    "        'cpd00066_e', # L-Phenylalanine\n",
    "        'cpd00053_e', # L-Glutamine\n",
    "        'cpd00132_e', # L-Asparagine\n",
    "        'cpd00122_e', # N-Acetyl-D-glucosamine\n",
    "        'cpd27607_e', # N-Acetyl-D-galactosamine\n",
    "        'cpd00232_e', # Neu5Ac\n",
    "        'cpd00108_e', # Galactose\n",
    "        'cpd00751_e', # L-Fucose\n",
    "        'cpd00138_e'} # D-Mannose\n",
    "\n",
    "# minimal media exchange reactions\n",
    "cdmm_ex = {'EX_' + x for x in cdmm_muc_noT}\n",
    "\n",
    "# Turn off all exchanges unless in minimal media\n",
    "for i in r20291.exchanges:\n",
    "    i.upper_bound = 1000\n",
    "    if not i.id in cdmm_ex:\n",
    "        i.lower_bound = 0.\n",
    "    else: \n",
    "        i.lower_bound = -1000.\n",
    "        \n",
    "# Check R20291 growth in CDMM\n",
    "r20291.slim_optimize()"
   ]
  },
  {
   "cell_type": "code",
   "execution_count": 10,
   "metadata": {
    "collapsed": false
   },
   "outputs": [
    {
     "name": "stderr",
     "output_type": "stream",
     "text": [
      "/Users/kathleenfurtado/anaconda3/envs/riptide3/lib/python3.8/site-packages/jupyter_client/jsonutil.py:75: DeprecationWarning: Interpreting naive datetime as local 2024-01-04 18:41:11.943385. Please add timezone info to timestamps.\n",
      "  new_obj[k] = extract_dates(v)\n"
     ]
    },
    {
     "name": "stdout",
     "output_type": "stream",
     "text": [
      "\n",
      "Initializing model and integrating transcriptomic data...\n",
      "Pruning zero flux subnetworks...\n",
      "Analyzing context-specific flux distributions...\n",
      "\n",
      "Reactions pruned to 343 from 1313 (73.88% change)\n",
      "Metabolites pruned to 337 from 1243 (72.89% change)\n",
      "Flux through the objective DECREASED to ~71.43 from ~84.46 (15.43% change)\n",
      "Context-specific metabolism does not correlate with transcriptome (r=-0.036, n.s.)\n",
      "\n",
      "RIPTiDe completed in, 1 minute and 13 seconds \n",
      "\n",
      "\n",
      "Running max fit RIPTiDe for objective fraction range: 0.35 to 0.95 with intervals of 0.05 \n",
      "\n",
      "Testing minimum objective fractions...\n",
      "Fraction = 0.35 | Rho = 0.0118 ; p = 0.8342\n",
      "Fraction = 0.4 | Rho = 0.0732 ; p = 0.1943\n",
      "Fraction = 0.45 | Rho = -0.0191 ; p = 0.7345\n",
      "Fraction = 0.5 | Rho = 0.0186 ; p = 0.7342\n",
      "Fraction = 0.55 | Rho = 0.0366 ; p = 0.5048\n",
      "Fraction = 0.6 | Rho = -0.0459 ; p = 0.3991\n",
      "Fraction = 0.65 | Rho = -0.0122 ; p = 0.823\n",
      "Fraction = 0.7 | Rho = -0.0049 ; p = 0.9286\n",
      "Fraction = 0.75 | Rho = -0.037 ; p = 0.496\n",
      "Fraction = 0.8 | Rho = -0.0364 ; p = 0.5012\n",
      "Fraction = 0.85 | Rho = 0.0501 ; p = 0.3596\n",
      "Fraction = 0.9 | Rho = -0.038 ; p = 0.4829\n",
      "Testing local objective fractions to 0.4...\n",
      "Fraction = 0.375 | Rho = 0.0343 ; p = 0.544\n",
      "Fraction = 0.425 | Rho = -0.0048 ; p = 0.9323\n",
      "\n",
      "Context-specific metabolism fit with 0.4 of optimal objective flux\n",
      "\n",
      "Reactions pruned to 316 from 1313 (75.93% change)\n",
      "Metabolites pruned to 316 from 1243 (74.58% change)\n",
      "Flux through the objective DECREASED to ~36.12 from ~84.46 (57.23% change)\n",
      "Context-specific metabolism does not correlate with transcriptome (r=0.073, n.s.)\n",
      "\n",
      "Maxfit RIPTiDe completed in, 32 minutes and 44 seconds \n",
      "\n"
     ]
    }
   ],
   "source": [
    "#Create RIPTIDE Objects\n",
    "rip_iec_no_t = riptide.contextualize(model=r20291, conservative=False, transcriptome=iec)\n",
    "rip_iec_no_t_max = riptide.maxfit_contextualize(model=r20291, conservative=False, transcriptome=iec)"
   ]
  },
  {
   "cell_type": "code",
   "execution_count": 11,
   "metadata": {
    "collapsed": false
   },
   "outputs": [
    {
     "name": "stderr",
     "output_type": "stream",
     "text": [
      "/Users/kathleenfurtado/anaconda3/envs/riptide3/lib/python3.8/site-packages/jupyter_client/jsonutil.py:75: DeprecationWarning: Interpreting naive datetime as local 2024-01-04 19:18:31.503612. Please add timezone info to timestamps.\n",
      "  new_obj[k] = extract_dates(v)\n"
     ]
    },
    {
     "name": "stdout",
     "output_type": "stream",
     "text": [
      "WARNING: Output path already exists, overwriting previous files\n",
      "WARNING: Output path already exists, overwriting previous files\n",
      "WARNING: Output path already exists, overwriting previous files\n"
     ]
    }
   ],
   "source": [
    "#Save Output\n",
    "riptide.save_output(riptide_obj=rip_cdmm_no_t, path='/Users/kathleenfurtado/RIPTIDE/riptide_cdmm_no_t')\n",
    "riptide.save_output(riptide_obj=rip_cdmm_no_t_max, path='/Users/kathleenfurtado/RIPTIDE/riptide_cdmm_no_t_max')\n",
    "riptide.save_output(riptide_obj=rip_iec_no_t, path='/Users/kathleenfurtado/RIPTIDE/riptide_iec_no_t')\n",
    "riptide.save_output(riptide_obj=rip_iec_no_t_max, path='/Users/kathleenfurtado/RIPTIDE/riptide_iec_no_t_max')"
   ]
  },
  {
   "cell_type": "markdown",
   "metadata": {
    "collapsed": true
   },
   "source": [
    "### End of Analysis"
   ]
  }
 ],
 "metadata": {
  "kernelspec": {
   "display_name": "Python (riptide3)",
   "language": "python",
   "name": "riptide3"
  },
  "language_info": {
   "codemirror_mode": {
    "name": "ipython",
    "version": 3
   },
   "file_extension": ".py",
   "mimetype": "text/x-python",
   "name": "python",
   "nbconvert_exporter": "python",
   "pygments_lexer": "ipython3",
   "version": "3.8.8"
  }
 },
 "nbformat": 4,
 "nbformat_minor": 2
}
