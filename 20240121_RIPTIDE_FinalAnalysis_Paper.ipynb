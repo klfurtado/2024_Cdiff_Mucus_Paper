{
 "cells": [
  {
   "cell_type": "markdown",
   "metadata": {},
   "source": [
    "# Import Databases"
   ]
  },
  {
   "cell_type": "code",
   "execution_count": 2,
   "metadata": {
    "collapsed": false
   },
   "outputs": [],
   "source": [
    "# Load libraries\n",
    "import riptide\n",
    "import cobra\n",
    "import pandas as pd\n",
    "import numpy as np"
   ]
  },
  {
   "cell_type": "markdown",
   "metadata": {},
   "source": [
    "# Load & Format TPM File\n",
    "#### Once files are made correctly, these steps do not need to be repeated. \n",
    "#### To re-run, uncomment lines with single \"#\""
   ]
  },
  {
   "cell_type": "code",
   "execution_count": null,
   "metadata": {
    "collapsed": false
   },
   "outputs": [],
   "source": [
    "## Load TPM data\n",
    "## Replace file path(s) accordingly\n",
    "#df = pd.read_csv(\"/Users/kathleenfurtado/RIPTIDE/TPMs_PATRIC_ID.csv\", sep=',')"
   ]
  },
  {
   "cell_type": "code",
   "execution_count": null,
   "metadata": {
    "collapsed": false
   },
   "outputs": [],
   "source": [
    "## Format IDs (remove 'fig|')\n",
    "#df['PATRIC.ID'] = df['PATRIC.ID'].str.split('|', expand=True)[1]"
   ]
  },
  {
   "cell_type": "code",
   "execution_count": null,
   "metadata": {
    "collapsed": false
   },
   "outputs": [],
   "source": [
    "#df.shape \n",
    "## 3400 genes  \n",
    "## need to filter down to just the metabolic genes present in the model"
   ]
  },
  {
   "cell_type": "code",
   "execution_count": null,
   "metadata": {
    "collapsed": false
   },
   "outputs": [],
   "source": [
    "## Get the genes from model\n",
    "#modelGenes = {g.id for g in r20291.genes} #703 genes"
   ]
  },
  {
   "cell_type": "code",
   "execution_count": null,
   "metadata": {
    "collapsed": false
   },
   "outputs": [],
   "source": [
    "## Filter TPM df by modelGenes\n",
    "#df1 = df.loc[df['PATRIC.ID'].isin(modelGenes)] # 678 genes (intersection of modelGenes and TPM genes)"
   ]
  },
  {
   "cell_type": "code",
   "execution_count": null,
   "metadata": {
    "collapsed": false
   },
   "outputs": [],
   "source": [
    "## Separate TPM file into condition-specific files\n",
    "#df1.iloc[:, :4].to_csv('TPM_CDMM.csv',sep=',',index=False) # CDMM; isolates first three columns + row names\n",
    "#df1.iloc[:, [0,4,5,6]].to_csv('TPM_Comm.csv',sep=',',index=False) # Comm; isolates columns 4-6 + row names\n",
    "#df1.iloc[:, [0,7,8,9]].to_csv('TPM_IEC.csv',sep=',',index=False) # IEC; isolates columns 7-9 + row names"
   ]
  },
  {
   "cell_type": "markdown",
   "metadata": {},
   "source": [
    "# Make Transcriptome Dictionaries"
   ]
  },
  {
   "cell_type": "code",
   "execution_count": 3,
   "metadata": {
    "collapsed": false
   },
   "outputs": [],
   "source": [
    "# Create transcriptomic dictionaries\n",
    "cdmm = riptide.read_transcription_file('TPM_CDMM.csv', norm = False, header = True, sep=',')#TPM normalized, hence norm=False\n",
    "iec = riptide.read_transcription_file('TPM_IEC.csv', norm = False, header = True, sep=',')"
   ]
  },
  {
   "cell_type": "markdown",
   "metadata": {},
   "source": [
    "# Analyses for Complete CDMM"
   ]
  },
  {
   "cell_type": "markdown",
   "metadata": {},
   "source": [
    "## Load Model for Complete CDMM (No Mucus)"
   ]
  },
  {
   "cell_type": "code",
   "execution_count": 5,
   "metadata": {
    "collapsed": false
   },
   "outputs": [
    {
     "data": {
      "text/plain": [
       "74.3745987238828"
      ]
     },
     "execution_count": 5,
     "metadata": {},
     "output_type": "execute_result"
    }
   ],
   "source": [
    "##Media formulation for CDMM with all amino acids\n",
    "\n",
    "#Reload model\n",
    "r20291=cobra.io.read_sbml_model(\"/Users/kathleenfurtado/RIPTIDE/iCdR703_gh.sbml\")\n",
    "\n",
    "cdmm_med = {'cpd00001_e', # water\n",
    "        'cpd00104_e', # Biotin\n",
    "        'cpd00644_e', # Pantothenate\n",
    "        'cpd00263_e', # Pyridoxine\n",
    "        'cpd00149_e', # Cobalt\n",
    "        'cpd00099_e', # Chloride\n",
    "        'cpd10515_e', # Iron\n",
    "        'cpd00030_e', # Manganese\n",
    "        'cpd00254_e', # Magnesium\n",
    "        'cpd00063_e', # Calcium\n",
    "        'cpd00205_e', # Potassium\n",
    "        'cpd00009_e', # Phosphate\n",
    "        'cpd00971_e', # Sodium\n",
    "        'cpd00242_e', # Carbonate\n",
    "        'cpd00027_e', # Glucose\n",
    "        'cpd00013_e', # Ammonia\n",
    "        'cpd00322_e', # L-Isoleucine\n",
    "        'cpd00129_e', # L-Proline\n",
    "        'cpd00156_e', # L-Valine\n",
    "        'cpd00107_e', # L-Leucine\n",
    "        'cpd00084_e', # L-Cysteine\n",
    "        'cpd00065_e', # L-Tryptophan\n",
    "        'cpd00039_e', # L-Lysine\n",
    "        'cpd00119_e', # L-Histidine\n",
    "        'cpd00051_e', # L-Arginine\n",
    "        'cpd00041_e', # L-Aspartate\n",
    "        'cpd00161_e', # L-Threonine\n",
    "        'cpd00054_e', # L-Serine\n",
    "        'cpd00023_e', # L-Glutamate\n",
    "        'cpd00033_e', # L-Glycine\n",
    "        'cpd00035_e', # L-Alanine\n",
    "        'cpd00060_e', # L-Methionine\n",
    "        'cpd00069_e', # L-Tyrosine\n",
    "        'cpd00066_e', # L-Phenylalanine\n",
    "        'cpd00053_e', # L-Glutamine\n",
    "        'cpd00132_e'} # L-Asparagine\n",
    "\n",
    "# minimal media exchange reactions\n",
    "cdmm_ex = {'EX_' + x for x in cdmm_med}\n",
    "\n",
    "# Turn off all exchanges unless in minimal media\n",
    "for i in r20291.exchanges:\n",
    "    i.upper_bound = 1000\n",
    "    if not i.id in cdmm_ex:\n",
    "        i.lower_bound = 0.\n",
    "    else: \n",
    "        i.lower_bound = -1000.\n",
    "        \n",
    "# Check R20291 growth in CDMM\n",
    "r20291.slim_optimize()"
   ]
  },
  {
   "cell_type": "markdown",
   "metadata": {},
   "source": [
    "## Run RIPTIDE for No Mucus"
   ]
  },
  {
   "cell_type": "code",
   "execution_count": 6,
   "metadata": {
    "collapsed": false,
    "scrolled": true
   },
   "outputs": [
    {
     "name": "stdout",
     "output_type": "stream",
     "text": [
      "\n",
      "Initializing model and integrating transcriptomic data...\n",
      "Pruning zero flux subnetworks...\n",
      "Analyzing context-specific flux distributions...\n",
      "\n",
      "Reactions pruned to 324 from 1313 (75.32% change)\n",
      "Metabolites pruned to 325 from 1243 (73.85% change)\n",
      "Flux through the objective DECREASED to ~58.68 from ~74.37 (21.1% change)\n",
      "Context-specific metabolism does not correlate with transcriptome (r=0.063, n.s.)\n",
      "\n",
      "RIPTiDe completed in, 1 minute and 46 seconds \n",
      "\n",
      "\n",
      "Running max fit RIPTiDe for objective fraction range: 0.35 to 0.95 with intervals of 0.05 \n",
      "\n",
      "Testing minimum objective fractions...\n",
      "Fraction = 0.35 | Rho = 0.1101 ; p = 0.0577\n",
      "Fraction = 0.4 | Rho = 0.0759 ; p = 0.1912\n",
      "Fraction = 0.45 | Rho = 0.0754 ; p = 0.194\n",
      "Fraction = 0.5 | Rho = 0.034 ; p = 0.5586\n",
      "Fraction = 0.55 | Rho = 0.0897 ; p = 0.1109\n",
      "Fraction = 0.6 | Rho = 0.0073 ; p = 0.8969\n",
      "Fraction = 0.65 | Rho = 0.0347 ; p = 0.5362\n",
      "Fraction = 0.7 | Rho = 0.0611 ; p = 0.2724\n",
      "Fraction = 0.75 | Rho = 0.0641 ; p = 0.2495\n",
      "Fraction = 0.8 | Rho = 0.0625 ; p = 0.2622\n",
      "Fraction = 0.85 | Rho = 0.0227 ; p = 0.6838\n",
      "Fraction = 0.9 | Rho = 0.0123 ; p = 0.8238\n",
      "Testing local objective fractions to 0.35...\n",
      "Fraction = 0.325 | Rho = 0.1117 ; p = 0.0541\n",
      "Fraction = 0.375 | Rho = 0.0813 ; p = 0.1613\n",
      "\n",
      "Context-specific metabolism fit with 0.325 of optimal objective flux\n",
      "\n",
      "Reactions pruned to 298 from 1313 (77.3% change)\n",
      "Metabolites pruned to 300 from 1243 (75.86% change)\n",
      "Flux through the objective DECREASED to ~35.26 from ~74.37 (52.59% change)\n",
      "Context-specific metabolism does not correlate with transcriptome (r=0.112, n.s.)\n",
      "\n",
      "Maxfit RIPTiDe completed in, 32 minutes and 17 seconds \n",
      "\n"
     ]
    }
   ],
   "source": [
    "# Create Riptide object\n",
    "rip_cdmm = riptide.contextualize(model=r20291, conservative=False, transcriptome=cdmm)\n",
    "rip_cdmm_max = riptide.maxfit_contextualize(model=r20291, conservative=False, transcriptome=cdmm) #used in paper"
   ]
  },
  {
   "cell_type": "code",
   "execution_count": 7,
   "metadata": {
    "collapsed": false
   },
   "outputs": [
    {
     "name": "stderr",
     "output_type": "stream",
     "text": [
      "/Users/kathleenfurtado/anaconda3/envs/riptide3/lib/python3.8/site-packages/jupyter_client/jsonutil.py:75: DeprecationWarning: Interpreting naive datetime as local 2023-12-30 18:21:38.234462. Please add timezone info to timestamps.\n",
      "  new_obj[k] = extract_dates(v)\n"
     ]
    },
    {
     "name": "stdout",
     "output_type": "stream",
     "text": [
      "WARNING: Output path already exists, overwriting previous files\n"
     ]
    }
   ],
   "source": [
    "#Export output from CDMM condition\n",
    "riptide.save_output(riptide_obj=rip_cdmm, path='/Users/kathleenfurtado/RIPTIDE/riptide_cdmm_complete')\n",
    "riptide.save_output(riptide_obj=rip_cdmm_max, path='/Users/kathleenfurtado/RIPTIDE/riptide_cdmm_max_complete')"
   ]
  },
  {
   "cell_type": "code",
   "execution_count": 8,
   "metadata": {
    "collapsed": false
   },
   "outputs": [
    {
     "name": "stdout",
     "output_type": "stream",
     "text": [
      "(348, 324)\n",
      "(500, 298)\n"
     ]
    },
    {
     "name": "stderr",
     "output_type": "stream",
     "text": [
      "/Users/kathleenfurtado/anaconda3/envs/riptide3/lib/python3.8/site-packages/jupyter_client/jsonutil.py:75: DeprecationWarning: Interpreting naive datetime as local 2024-01-21 21:07:16.453688. Please add timezone info to timestamps.\n",
      "  new_obj[k] = extract_dates(v)\n"
     ]
    }
   ],
   "source": [
    "#Check how many feasible samples\n",
    "print(rip_cdmm.flux_samples.shape)\n",
    "print(rip_cdmm_max.flux_samples.shape)"
   ]
  },
  {
   "cell_type": "markdown",
   "metadata": {},
   "source": [
    "## Load Model for Complete CDMM +Mucus"
   ]
  },
  {
   "cell_type": "code",
   "execution_count": 10,
   "metadata": {
    "collapsed": false
   },
   "outputs": [
    {
     "name": "stderr",
     "output_type": "stream",
     "text": [
      "/Users/kathleenfurtado/anaconda3/envs/riptide3/lib/python3.8/site-packages/jupyter_client/jsonutil.py:75: DeprecationWarning: Interpreting naive datetime as local 2024-01-21 21:07:35.722154. Please add timezone info to timestamps.\n",
      "  new_obj[k] = extract_dates(v)\n"
     ]
    },
    {
     "data": {
      "text/plain": [
       "84.62195562073408"
      ]
     },
     "execution_count": 10,
     "metadata": {},
     "output_type": "execute_result"
    }
   ],
   "source": [
    "##Load model and edit for CDMM media with monosaccharides derived from N- and O-glycans\n",
    "#Using all amino acids\n",
    "\n",
    "#Reload model\n",
    "r20291=cobra.io.read_sbml_model(\"/Users/kathleenfurtado/RIPTIDE/iCdR703_gh.sbml\")\n",
    "\n",
    "cdmm_muc = {'cpd00001_e', # water\n",
    "        'cpd00104_e', # Biotin\n",
    "        'cpd00644_e', # Pantothenate\n",
    "        'cpd00263_e', # Pyridoxine\n",
    "        'cpd00149_e', # Cobalt\n",
    "        'cpd00099_e', # Chloride\n",
    "        'cpd10515_e', # Iron\n",
    "        'cpd00030_e', # Manganese\n",
    "        'cpd00254_e', # Magnesium\n",
    "        'cpd00063_e', # Calcium\n",
    "        'cpd00205_e', # Potassium\n",
    "        'cpd00009_e', # Phosphate\n",
    "        'cpd00971_e', # Sodium\n",
    "        'cpd00242_e', # Carbonate\n",
    "        'cpd00013_e', # Ammonia\n",
    "        'cpd00027_e', # D-Glucose\n",
    "        'cpd00322_e', # L-Isoleucine\n",
    "        'cpd00129_e', # L-Proline\n",
    "        'cpd00156_e', # L-Valine\n",
    "        'cpd00107_e', # L-Leucine\n",
    "        'cpd00084_e', # L-Cysteine\n",
    "        'cpd00065_e', # L-Tryptophan\n",
    "        'cpd00039_e', # L-Lysine\n",
    "        'cpd00119_e', # L-Histidine\n",
    "        'cpd00051_e', # L-Arginine\n",
    "        'cpd00041_e', # L-Aspartate\n",
    "        'cpd00161_e', # L-Threonine\n",
    "        'cpd00054_e', # L-Serine\n",
    "        'cpd00023_e', # L-Glutamate\n",
    "        'cpd00033_e', # L-Glycine\n",
    "        'cpd00035_e', # L-Alanine\n",
    "        'cpd00060_e', # L-Methionine\n",
    "        'cpd00069_e', # L-Tyrosine\n",
    "        'cpd00066_e', # L-Phenylalanine\n",
    "        'cpd00053_e', # L-Glutamine\n",
    "        'cpd00132_e', # L-Asparagine\n",
    "        'cpd00122_e', # N-Acetyl-D-glucosamine\n",
    "        'cpd27607_e', # N-Acetyl-D-galactosamine\n",
    "        'cpd00232_e', # Neu5Ac\n",
    "        'cpd00108_e', # Galactose\n",
    "        'cpd00751_e', # L-Fucose\n",
    "        'cpd00138_e'} # D-Mannose\n",
    "\n",
    "# minimal media exchange reactions\n",
    "cdmm_ex = {'EX_' + x for x in cdmm_muc}\n",
    "\n",
    "# Turn off all exchanges unless in minimal media\n",
    "for i in r20291.exchanges:\n",
    "    i.upper_bound = 1000\n",
    "    if not i.id in cdmm_ex:\n",
    "        i.lower_bound = 0.\n",
    "    else: \n",
    "        i.lower_bound = -1000.\n",
    "        \n",
    "# Check R20291 growth in CDMM\n",
    "r20291.slim_optimize()"
   ]
  },
  {
   "cell_type": "markdown",
   "metadata": {},
   "source": [
    "## Run RIPTIDE for  +Mucus"
   ]
  },
  {
   "cell_type": "code",
   "execution_count": 11,
   "metadata": {
    "collapsed": false
   },
   "outputs": [
    {
     "name": "stderr",
     "output_type": "stream",
     "text": [
      "/Users/kathleenfurtado/anaconda3/envs/riptide3/lib/python3.8/site-packages/jupyter_client/jsonutil.py:75: DeprecationWarning: Interpreting naive datetime as local 2023-12-30 18:35:36.051312. Please add timezone info to timestamps.\n",
      "  new_obj[k] = extract_dates(v)\n"
     ]
    },
    {
     "name": "stdout",
     "output_type": "stream",
     "text": [
      "\n",
      "Initializing model and integrating transcriptomic data...\n",
      "Pruning zero flux subnetworks...\n",
      "Analyzing context-specific flux distributions...\n",
      "\n",
      "Reactions pruned to 341 from 1313 (74.03% change)\n",
      "Metabolites pruned to 336 from 1243 (72.97% change)\n",
      "Flux through the objective DECREASED to ~72.03 from ~84.62 (14.88% change)\n",
      "Context-specific metabolism does not correlate with transcriptome (r=0.004, n.s.)\n",
      "\n",
      "RIPTiDe completed in, 1 minute and 14 seconds \n",
      "\n",
      "\n",
      "Running max fit RIPTiDe for objective fraction range: 0.35 to 0.95 with intervals of 0.05 \n",
      "\n",
      "Testing minimum objective fractions...\n",
      "Fraction = 0.35 | Rho = 0.0363 ; p = 0.5214\n",
      "Fraction = 0.4 | Rho = 0.0351 ; p = 0.5355\n",
      "Fraction = 0.45 | Rho = 0.0009 ; p = 0.9867\n",
      "Fraction = 0.5 | Rho = 0.036 ; p = 0.5116\n",
      "Fraction = 0.55 | Rho = 0.0572 ; p = 0.2991\n",
      "Fraction = 0.6 | Rho = 0.0002 ; p = 0.997\n",
      "Fraction = 0.65 | Rho = 0.0055 ; p = 0.9192\n",
      "Fraction = 0.7 | Rho = -0.001 ; p = 0.9851\n",
      "Fraction = 0.75 | Rho = 0.0068 ; p = 0.9\n",
      "Fraction = 0.8 | Rho = 0.0042 ; p = 0.9383\n",
      "Fraction = 0.85 | Rho = 0.0048 ; p = 0.9309\n",
      "Fraction = 0.9 | Rho = 0.0059 ; p = 0.9128\n",
      "Testing local objective fractions to 0.55...\n",
      "Fraction = 0.525 | Rho = 0.08 ; p = 0.1439\n",
      "Fraction = 0.575 | Rho = 0.0267 ; p = 0.6252\n",
      "\n",
      "Context-specific metabolism fit with 0.525 of optimal objective flux\n",
      "\n",
      "Reactions pruned to 335 from 1313 (74.49% change)\n",
      "Metabolites pruned to 330 from 1243 (73.45% change)\n",
      "Flux through the objective DECREASED to ~51.03 from ~84.62 (39.7% change)\n",
      "Context-specific metabolism does not correlate with transcriptome (r=0.08, n.s.)\n",
      "\n",
      "Maxfit RIPTiDe completed in, 23 minutes and 43 seconds \n",
      "\n"
     ]
    }
   ],
   "source": [
    "#Create RIPTIDE Objects\n",
    "rip_iec = riptide.contextualize(model=r20291, conservative=False, transcriptome=iec)\n",
    "rip_iec_max = riptide.maxfit_contextualize(model=r20291, conservative=False, transcriptome=iec)"
   ]
  },
  {
   "cell_type": "code",
   "execution_count": 12,
   "metadata": {
    "collapsed": false
   },
   "outputs": [
    {
     "name": "stderr",
     "output_type": "stream",
     "text": [
      "/Users/kathleenfurtado/anaconda3/envs/riptide3/lib/python3.8/site-packages/jupyter_client/jsonutil.py:75: DeprecationWarning: Interpreting naive datetime as local 2023-12-30 19:01:58.375317. Please add timezone info to timestamps.\n",
      "  new_obj[k] = extract_dates(v)\n"
     ]
    },
    {
     "name": "stdout",
     "output_type": "stream",
     "text": [
      "WARNING: Output path already exists, overwriting previous files\n"
     ]
    }
   ],
   "source": [
    "#Save Outputs\n",
    "riptide.save_output(riptide_obj=rip_iec, path='/Users/kathleenfurtado/RIPTIDE/riptide_iec_complete')\n",
    "riptide.save_output(riptide_obj=rip_iec_max, path='/Users/kathleenfurtado/RIPTIDE/riptide_iec_max_complete')"
   ]
  },
  {
   "cell_type": "code",
   "execution_count": 13,
   "metadata": {
    "collapsed": false
   },
   "outputs": [
    {
     "name": "stdout",
     "output_type": "stream",
     "text": [
      "(500, 341)\n",
      "(500, 335)\n"
     ]
    },
    {
     "name": "stderr",
     "output_type": "stream",
     "text": [
      "/Users/kathleenfurtado/anaconda3/envs/riptide3/lib/python3.8/site-packages/jupyter_client/jsonutil.py:75: DeprecationWarning: Interpreting naive datetime as local 2023-12-30 19:02:21.827203. Please add timezone info to timestamps.\n",
      "  new_obj[k] = extract_dates(v)\n"
     ]
    }
   ],
   "source": [
    "#Check feasible samplings per condition\n",
    "print(rip_iec.flux_samples.shape) #287 samplings, 324 rxns\n",
    "print(rip_iec_max.flux_samples.shape) #500 samplings, 341 rxns"
   ]
  },
  {
   "cell_type": "markdown",
   "metadata": {},
   "source": [
    "## Test Complete CDMM +Mucus formulation, to see if this alters biomass/feasible solutions for no mucus condition."
   ]
  },
  {
   "cell_type": "code",
   "execution_count": 14,
   "metadata": {
    "collapsed": false
   },
   "outputs": [
    {
     "name": "stderr",
     "output_type": "stream",
     "text": [
      "/Users/kathleenfurtado/anaconda3/envs/riptide3/lib/python3.8/site-packages/jupyter_client/jsonutil.py:75: DeprecationWarning: Interpreting naive datetime as local 2023-12-30 19:02:58.759128. Please add timezone info to timestamps.\n",
      "  new_obj[k] = extract_dates(v)\n"
     ]
    },
    {
     "name": "stdout",
     "output_type": "stream",
     "text": [
      "\n",
      "Initializing model and integrating transcriptomic data...\n",
      "Pruning zero flux subnetworks...\n",
      "Analyzing context-specific flux distributions...\n",
      "\n",
      "Reactions pruned to 342 from 1313 (73.95% change)\n",
      "Metabolites pruned to 338 from 1243 (72.81% change)\n",
      "Flux through the objective DECREASED to ~70.05 from ~84.62 (17.22% change)\n",
      "Context-specific metabolism does not correlate with transcriptome (r=0.04, n.s.)\n",
      "\n",
      "RIPTiDe completed in, 2 minutes and 6 seconds \n",
      "\n",
      "\n",
      "Running max fit RIPTiDe for objective fraction range: 0.35 to 0.95 with intervals of 0.05 \n",
      "\n",
      "Testing minimum objective fractions...\n",
      "Fraction = 0.35 | Rho = 0.1087 ; p = 0.0543\n",
      "Fraction = 0.4 | Rho = 0.1022 ; p = 0.0705\n",
      "Fraction = 0.45 | Rho = 0.0309 ; p = 0.5848\n",
      "Fraction = 0.5 | Rho = 0.0993 ; p = 0.0703\n",
      "Fraction = 0.55 | Rho = 0.0537 ; p = 0.3263\n",
      "Fraction = 0.6 | Rho = 0.0737 ; p = 0.1752\n",
      "Fraction = 0.65 | Rho = 0.0824 ; p = 0.1284\n",
      "Fraction = 0.7 | Rho = 0.0731 ; p = 0.1776\n",
      "Fraction = 0.75 | Rho = 0.0308 ; p = 0.5706\n",
      "Fraction = 0.8 | Rho = 0.0396 ; p = 0.4657\n",
      "Fraction = 0.85 | Rho = 0.055 ; p = 0.3153\n",
      "Fraction = 0.9 | Rho = 0.0179 ; p = 0.7417\n",
      "Testing local objective fractions to 0.35...\n",
      "Fraction = 0.325 | Rho = 0.0837 ; p = 0.1383\n",
      "Fraction = 0.375 | Rho = 0.1073 ; p = 0.0576\n",
      "\n",
      "Context-specific metabolism fit with 0.35 of optimal objective flux\n",
      "\n",
      "Reactions pruned to 314 from 1313 (76.09% change)\n",
      "Metabolites pruned to 312 from 1243 (74.9% change)\n",
      "Flux through the objective DECREASED to ~36.48 from ~84.62 (56.89% change)\n",
      "Context-specific metabolism does not correlate with transcriptome (r=0.109, n.s.)\n",
      "\n",
      "Maxfit RIPTiDe completed in, 26 minutes and 11 seconds \n",
      "\n"
     ]
    }
   ],
   "source": [
    "#Create RIPTIDE Objects\n",
    "rip_cdmm_monosacc_test = riptide.contextualize(model=r20291, conservative=False, transcriptome=cdmm)\n",
    "rip_cdmm_monosacc_test_max = riptide.maxfit_contextualize(model=r20291, conservative=False, transcriptome=cdmm)"
   ]
  },
  {
   "cell_type": "code",
   "execution_count": 15,
   "metadata": {
    "collapsed": false
   },
   "outputs": [
    {
     "name": "stdout",
     "output_type": "stream",
     "text": [
      "(85, 342)\n",
      "(500, 314)\n"
     ]
    },
    {
     "name": "stderr",
     "output_type": "stream",
     "text": [
      "/Users/kathleenfurtado/anaconda3/envs/riptide3/lib/python3.8/site-packages/jupyter_client/jsonutil.py:75: DeprecationWarning: Interpreting naive datetime as local 2023-12-30 19:38:16.542419. Please add timezone info to timestamps.\n",
      "  new_obj[k] = extract_dates(v)\n"
     ]
    }
   ],
   "source": [
    "#Check feasible samplings\n",
    "print(rip_cdmm_monosacc_test.flux_samples.shape) #85 samplings, 342 rxns\n",
    "print(rip_cdmm_monosacc_test_max.flux_samples.shape) #500 samplings, 314 rxns"
   ]
  },
  {
   "cell_type": "code",
   "execution_count": 16,
   "metadata": {
    "collapsed": false
   },
   "outputs": [
    {
     "name": "stderr",
     "output_type": "stream",
     "text": [
      "/Users/kathleenfurtado/anaconda3/envs/riptide3/lib/python3.8/site-packages/jupyter_client/jsonutil.py:75: DeprecationWarning: Interpreting naive datetime as local 2023-12-30 19:44:10.758749. Please add timezone info to timestamps.\n",
      "  new_obj[k] = extract_dates(v)\n"
     ]
    },
    {
     "name": "stdout",
     "output_type": "stream",
     "text": [
      "WARNING: Output path already exists, overwriting previous files\n"
     ]
    }
   ],
   "source": [
    "#Export to check biomass and compare to conditions with mucus in R\n",
    "riptide.save_output(riptide_obj=rip_cdmm_monosacc_test, path='/Users/kathleenfurtado/RIPTIDE/riptide_cdmm_monosacc_test')\n",
    "riptide.save_output(riptide_obj=rip_cdmm_monosacc_test_max, path='/Users/kathleenfurtado/RIPTIDE/riptide_cdmm_monosacc_test_max')"
   ]
  },
  {
   "cell_type": "markdown",
   "metadata": {
    "collapsed": true
   },
   "source": [
    "### End of Analysis"
   ]
  }
 ],
 "metadata": {
  "kernelspec": {
   "display_name": "Python (riptide3)",
   "language": "python",
   "name": "riptide3"
  },
  "language_info": {
   "codemirror_mode": {
    "name": "ipython",
    "version": 3
   },
   "file_extension": ".py",
   "mimetype": "text/x-python",
   "name": "python",
   "nbconvert_exporter": "python",
   "pygments_lexer": "ipython3",
   "version": "3.8.8"
  }
 },
 "nbformat": 4,
 "nbformat_minor": 2
}
